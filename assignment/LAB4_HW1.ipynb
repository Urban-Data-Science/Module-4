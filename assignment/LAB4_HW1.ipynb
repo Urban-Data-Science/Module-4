{
 "cells": [
  {
   "cell_type": "markdown",
   "metadata": {},
   "source": [
    "# LAB 4. Probability distributions "
   ]
  },
  {
   "cell_type": "markdown",
   "metadata": {},
   "source": [
    "This lab illustrates the ways of analyzing probability distributions in Python, illustrated on examples of:\n",
    "* people's hights, \n",
    "* weather data (outside temperature readings) and city sizes\n",
    "* city sizes\n",
    "\n",
    "If you may use a refresher on the basics of probabilities and statistics, including the concept of a random variable, probability distribution, mean and standard deviation you may find a stats bootcamp at: https://github.com/SSobol/ProbabilityStatsBootcamp/blob/master/Stats_Bootcamp_2018.ipynb"
   ]
  },
  {
   "cell_type": "code",
   "execution_count": 1,
   "metadata": {},
   "outputs": [],
   "source": [
    "#include packages\n",
    "import pandas as pd\n",
    "import numpy as np\n",
    "import matplotlib.pyplot as plt #for creating plots\n",
    "from scipy import stats\n",
    "import seaborn as sns #for styling the plots\n",
    "#warnings.filterwarnings('ignore')\n",
    "%matplotlib inline "
   ]
  },
  {
   "cell_type": "code",
   "execution_count": 2,
   "metadata": {},
   "outputs": [],
   "source": [
    "#include the distributions\n",
    "from scipy.stats import norm #normal\n",
    "from scipy.stats import genextreme as gev #generalized extreme value\n",
    "from scipy.stats import pareto #pareto"
   ]
  },
  {
   "cell_type": "markdown",
   "metadata": {},
   "source": [
    "## Example 1. People's height distribution\n",
    "\n",
    "Source: a sample of 10.000 people heigh-weight info from https://www.kaggle.com/mustafaali96/weight-height?select=weight-height.csv\n",
    "\n",
    "The specific source and geography not disclosed, so we don't rely on this data being fully representative. So just using for illustration purposes. Although one can notice that the averages fit those reported for US. "
   ]
  },
  {
   "cell_type": "code",
   "execution_count": 3,
   "metadata": {},
   "outputs": [],
   "source": [
    "#upload the data\n",
    "height = pd.read_csv('https://raw.githubusercontent.com/CUSP2020PUI/Data/master/weight-height.csv')"
   ]
  },
  {
   "cell_type": "code",
   "execution_count": 4,
   "metadata": {},
   "outputs": [
    {
     "data": {
      "text/html": [
       "<div>\n",
       "<style scoped>\n",
       "    .dataframe tbody tr th:only-of-type {\n",
       "        vertical-align: middle;\n",
       "    }\n",
       "\n",
       "    .dataframe tbody tr th {\n",
       "        vertical-align: top;\n",
       "    }\n",
       "\n",
       "    .dataframe thead th {\n",
       "        text-align: right;\n",
       "    }\n",
       "</style>\n",
       "<table border=\"1\" class=\"dataframe\">\n",
       "  <thead>\n",
       "    <tr style=\"text-align: right;\">\n",
       "      <th></th>\n",
       "      <th>Gender</th>\n",
       "      <th>Height</th>\n",
       "      <th>Weight</th>\n",
       "    </tr>\n",
       "  </thead>\n",
       "  <tbody>\n",
       "    <tr>\n",
       "      <th>0</th>\n",
       "      <td>Male</td>\n",
       "      <td>73.847017</td>\n",
       "      <td>241.893563</td>\n",
       "    </tr>\n",
       "    <tr>\n",
       "      <th>1</th>\n",
       "      <td>Male</td>\n",
       "      <td>68.781904</td>\n",
       "      <td>162.310473</td>\n",
       "    </tr>\n",
       "    <tr>\n",
       "      <th>2</th>\n",
       "      <td>Male</td>\n",
       "      <td>74.110105</td>\n",
       "      <td>212.740856</td>\n",
       "    </tr>\n",
       "    <tr>\n",
       "      <th>3</th>\n",
       "      <td>Male</td>\n",
       "      <td>71.730978</td>\n",
       "      <td>220.042470</td>\n",
       "    </tr>\n",
       "    <tr>\n",
       "      <th>4</th>\n",
       "      <td>Male</td>\n",
       "      <td>69.881796</td>\n",
       "      <td>206.349801</td>\n",
       "    </tr>\n",
       "  </tbody>\n",
       "</table>\n",
       "</div>"
      ],
      "text/plain": [
       "  Gender     Height      Weight\n",
       "0   Male  73.847017  241.893563\n",
       "1   Male  68.781904  162.310473\n",
       "2   Male  74.110105  212.740856\n",
       "3   Male  71.730978  220.042470\n",
       "4   Male  69.881796  206.349801"
      ]
     },
     "execution_count": 4,
     "metadata": {},
     "output_type": "execute_result"
    }
   ],
   "source": [
    "height.head()"
   ]
  },
  {
   "cell_type": "code",
   "execution_count": 5,
   "metadata": {},
   "outputs": [
    {
     "data": {
      "text/html": [
       "<div>\n",
       "<style scoped>\n",
       "    .dataframe tbody tr th:only-of-type {\n",
       "        vertical-align: middle;\n",
       "    }\n",
       "\n",
       "    .dataframe tbody tr th {\n",
       "        vertical-align: top;\n",
       "    }\n",
       "\n",
       "    .dataframe thead th {\n",
       "        text-align: right;\n",
       "    }\n",
       "</style>\n",
       "<table border=\"1\" class=\"dataframe\">\n",
       "  <thead>\n",
       "    <tr style=\"text-align: right;\">\n",
       "      <th></th>\n",
       "      <th>Height</th>\n",
       "      <th>Weight</th>\n",
       "    </tr>\n",
       "  </thead>\n",
       "  <tbody>\n",
       "    <tr>\n",
       "      <th>count</th>\n",
       "      <td>10000.000000</td>\n",
       "      <td>10000.000000</td>\n",
       "    </tr>\n",
       "    <tr>\n",
       "      <th>mean</th>\n",
       "      <td>66.367560</td>\n",
       "      <td>161.440357</td>\n",
       "    </tr>\n",
       "    <tr>\n",
       "      <th>std</th>\n",
       "      <td>3.847528</td>\n",
       "      <td>32.108439</td>\n",
       "    </tr>\n",
       "    <tr>\n",
       "      <th>min</th>\n",
       "      <td>54.263133</td>\n",
       "      <td>64.700127</td>\n",
       "    </tr>\n",
       "    <tr>\n",
       "      <th>25%</th>\n",
       "      <td>63.505620</td>\n",
       "      <td>135.818051</td>\n",
       "    </tr>\n",
       "    <tr>\n",
       "      <th>50%</th>\n",
       "      <td>66.318070</td>\n",
       "      <td>161.212928</td>\n",
       "    </tr>\n",
       "    <tr>\n",
       "      <th>75%</th>\n",
       "      <td>69.174262</td>\n",
       "      <td>187.169525</td>\n",
       "    </tr>\n",
       "    <tr>\n",
       "      <th>max</th>\n",
       "      <td>78.998742</td>\n",
       "      <td>269.989699</td>\n",
       "    </tr>\n",
       "  </tbody>\n",
       "</table>\n",
       "</div>"
      ],
      "text/plain": [
       "             Height        Weight\n",
       "count  10000.000000  10000.000000\n",
       "mean      66.367560    161.440357\n",
       "std        3.847528     32.108439\n",
       "min       54.263133     64.700127\n",
       "25%       63.505620    135.818051\n",
       "50%       66.318070    161.212928\n",
       "75%       69.174262    187.169525\n",
       "max       78.998742    269.989699"
      ]
     },
     "execution_count": 5,
     "metadata": {},
     "output_type": "execute_result"
    }
   ],
   "source": [
    "height.describe() #10.000 records"
   ]
  },
  {
   "cell_type": "code",
   "execution_count": 6,
   "metadata": {},
   "outputs": [],
   "source": [
    "#introduce a custom function performing distribution analysis\n",
    "def distribution_analysis(x, log_scale = False, fit_distribution = 'None', bins = 50, vis_means = True, vis_curve = True, print_outputs = True):\n",
    "    #x - array of observations\n",
    "    #log_scale - analyze distribution of log(x) if True\n",
    "    #fit_distribution - fit the distribution ('normal', 'gev' or 'pareto') or do nothing if 'None'\n",
    "    #bins - how many bins to use for binning the data\n",
    "    #vis_means - show mean and std lines if True\n",
    "    #vis_curve - show interpolated distribution curve over the histogram bars if True\n",
    "    #print_outputs - print mean, std and percentiles\n",
    "    \n",
    "    if log_scale: \n",
    "        x1 = np.log10(x) #convert data to decimal logarithms\n",
    "        xlabel = 'log(values)' #reflect in x labels\n",
    "    else:\n",
    "        x1 = x #leave original scale \n",
    "        xlabel = 'values'\n",
    "    mu = x1.mean() #compute the mean\n",
    "    if log_scale: #if logscale, output all three - log mean, its original scale and original scale mean\n",
    "        print('Log mean = {:.2f}({:.2f}), mean = {:.2f}'.format(mu,10**mu,x.mean()))\n",
    "    else:\n",
    "        print('Mean = {:.2f}'.format(mu)) #otherwise print mean\n",
    "    sigma = x1.std() #compute and output standard deviation \n",
    "    print('Standard deviation = {:.2f}'.format(sigma))\n",
    "    for p in [1,5,25,50,75,95,99]: #output percentile values\n",
    "        print('{:d} percentile = {:.2f}'.format(p,np.percentile(x,p)))\n",
    "        \n",
    "    #visualize histogram and the interpolated line (if vis_curve=True) using seaborn\n",
    "    sns.distplot(x1, hist=True, kde=vis_curve, \n",
    "        bins=bins,color = 'darkblue', \n",
    "        hist_kws={'edgecolor':'black'},\n",
    "        kde_kws={'linewidth': 4})\n",
    "    \n",
    "    #show vertical lines for mean and std if vis_means = True\n",
    "    if vis_means:\n",
    "        plt.axvline(mu, color='r', ls='--', lw=2.0)\n",
    "        plt.axvline(mu-sigma, color='g', ls='--', lw=2.0)\n",
    "        plt.axvline(mu+sigma, color='g', ls='--', lw=2.0)\n",
    "        \n",
    "    ylim = plt.gca().get_ylim() #keep the y-range of original distribution density values \n",
    "    #(to make sure the fitted distribution would not affect it)\n",
    "    \n",
    "    h = np.arange(mu - 3 * sigma, mu + 3 * sigma, sigma / 100) #3-sigma visualization range for the fitted distribution\n",
    "    pars = None #fitted distribution parameters\n",
    "    \n",
    "    #fit and visualize the theoretic distribution\n",
    "    if fit_distribution == 'normal':\n",
    "        pars = norm.fit(x1)\n",
    "        plt.plot(h,norm.pdf(h,*pars),'r')\n",
    "    elif fit_distribution == 'gev':\n",
    "        pars = gev.fit(x1)\n",
    "        plt.plot(h,gev.pdf(h,*pars),'r')\n",
    "    elif fit_distribution == 'pareto':\n",
    "        pars = pareto.fit(x1)\n",
    "        plt.plot(h,pareto.pdf(h,*pars),'r')\n",
    "    \n",
    "    plt.xlabel(xlabel) #add x label \n",
    "    plt.ylim(ylim) #restore the y-range of original distribution density values \n",
    "    plt.show()\n",
    "    return pars"
   ]
  },
  {
   "cell_type": "code",
   "execution_count": 7,
   "metadata": {},
   "outputs": [
    {
     "name": "stdout",
     "output_type": "stream",
     "text": [
      "Mean = 66.37\n",
      "Standard deviation = 3.85\n",
      "1 percentile = 58.13\n",
      "5 percentile = 60.25\n",
      "25 percentile = 63.51\n",
      "50 percentile = 66.32\n",
      "75 percentile = 69.17\n",
      "95 percentile = 72.62\n",
      "99 percentile = 74.79\n"
     ]
    },
    {
     "data": {
      "image/png": "[encoded data removed]",
      "text/plain": [
       "<Figure size 432x288 with 1 Axes>"
      ]
     },
     "metadata": {
      "needs_background": "light"
     },
     "output_type": "display_data"
    }
   ],
   "source": [
    "# output the empirical distribution for people's heights - histogram and interpolated curve\n",
    "distribution_analysis(height.Height, bins=40, vis_means = False)"
   ]
  },
  {
   "cell_type": "markdown",
   "metadata": {},
   "source": [
    "We can see the distribution somewhat similar to bell curve (normal), but having a wider (double) peak"
   ]
  },
  {
   "cell_type": "code",
   "execution_count": 8,
   "metadata": {},
   "outputs": [
    {
     "name": "stdout",
     "output_type": "stream",
     "text": [
      "Mean = 66.37\n",
      "Standard deviation = 3.85\n",
      "1 percentile = 58.13\n",
      "5 percentile = 60.25\n",
      "25 percentile = 63.51\n",
      "50 percentile = 66.32\n",
      "75 percentile = 69.17\n",
      "95 percentile = 72.62\n",
      "99 percentile = 74.79\n"
     ]
    },
    {
     "data": {
      "image/png": "[encoded data removed]",
      "text/plain": [
       "<Figure size 432x288 with 1 Axes>"
      ]
     },
     "metadata": {
      "needs_background": "light"
     },
     "output_type": "display_data"
    }
   ],
   "source": [
    "#indeed if we now fit the normal distribution the fit is not going to be perfect\n",
    "distribution_analysis(height.Height, fit_distribution='normal', bins=40);"
   ]
  },
  {
   "cell_type": "markdown",
   "metadata": {},
   "source": [
    "This is because the men and women heigh distribution are different and here are mixed together"
   ]
  },
  {
   "cell_type": "markdown",
   "metadata": {},
   "source": [
    "In fact we have two modes in the distribution. Let's consider them separately"
   ]
  },
  {
   "cell_type": "code",
   "execution_count": 9,
   "metadata": {},
   "outputs": [
    {
     "name": "stdout",
     "output_type": "stream",
     "text": [
      "5000 5000\n"
     ]
    }
   ],
   "source": [
    "men_height = height[height.Gender=='Male'] #take only men\n",
    "women_height = height[height.Gender=='Female'] #take only men\n",
    "print (len(men_height), len(women_height)) #equal sizes of men/women samples"
   ]
  },
  {
   "cell_type": "code",
   "execution_count": 10,
   "metadata": {},
   "outputs": [
    {
     "name": "stdout",
     "output_type": "stream",
     "text": [
      "Mean = 69.03\n",
      "Standard deviation = 2.86\n",
      "1 percentile = 62.06\n",
      "5 percentile = 64.33\n",
      "25 percentile = 67.17\n",
      "50 percentile = 69.03\n",
      "75 percentile = 70.99\n",
      "95 percentile = 73.70\n",
      "99 percentile = 75.69\n"
     ]
    },
    {
     "data": {
      "image/png": "[encoded data removed]",
      "text/plain": [
       "<Figure size 432x288 with 1 Axes>"
      ]
     },
     "metadata": {
      "needs_background": "light"
     },
     "output_type": "display_data"
    }
   ],
   "source": [
    "#if we now fit the normal distribution to men heights, it fits pretty well\n",
    "distribution_analysis(men_height.Height, fit_distribution='normal',bins=40);"
   ]
  },
  {
   "cell_type": "markdown",
   "metadata": {},
   "source": [
    "The average height is 69\", while those taller than 75.7\" are already among the 1% outliers "
   ]
  },
  {
   "cell_type": "code",
   "execution_count": 11,
   "metadata": {},
   "outputs": [
    {
     "name": "stdout",
     "output_type": "stream",
     "text": [
      "Mean = 63.71\n",
      "Standard deviation = 2.70\n",
      "1 percentile = 57.31\n",
      "5 percentile = 59.27\n",
      "25 percentile = 61.89\n",
      "50 percentile = 63.73\n",
      "75 percentile = 65.56\n",
      "95 percentile = 68.14\n",
      "99 percentile = 69.89\n"
     ]
    },
    {
     "data": {
      "image/png": "[encoded data removed]",
      "text/plain": [
       "<Figure size 432x288 with 1 Axes>"
      ]
     },
     "metadata": {
      "needs_background": "light"
     },
     "output_type": "display_data"
    }
   ],
   "source": [
    "#same for women; just the parameters are different:\n",
    "#the mean is 63.7\" and the 1% outliers start around the same level as the men averages\n",
    "distribution_analysis(women_height.Height, fit_distribution='normal',bins=40);"
   ]
  },
  {
   "cell_type": "markdown",
   "metadata": {},
   "source": [
    "### Extrapolating insights with the theoretic distributions\n",
    "Now illustrate the way fitting the theoretic distribution analysis can help generalize the insights beyond the considered sample. Take a much smaller sample of 100 random men heights - imagine this is all the data we've got"
   ]
  },
  {
   "cell_type": "code",
   "execution_count": 12,
   "metadata": {},
   "outputs": [],
   "source": [
    "men_sample = men_height.sample(n=100, random_state=11)"
   ]
  },
  {
   "cell_type": "code",
   "execution_count": 13,
   "metadata": {},
   "outputs": [
    {
     "name": "stdout",
     "output_type": "stream",
     "text": [
      "Mean = 68.87\n",
      "Standard deviation = 2.85\n",
      "1 percentile = 61.92\n",
      "5 percentile = 63.56\n",
      "25 percentile = 67.44\n",
      "50 percentile = 68.70\n",
      "75 percentile = 70.73\n",
      "95 percentile = 73.74\n",
      "99 percentile = 74.10\n"
     ]
    },
    {
     "data": {
      "image/png": "[encoded data removed]",
      "text/plain": [
       "<Figure size 432x288 with 1 Axes>"
      ]
     },
     "metadata": {
      "needs_background": "light"
     },
     "output_type": "display_data"
    }
   ],
   "source": [
    "#the empiric distribution looks much more noisy, however the fitted normal distribution has similar parameters compared to the original one\n",
    "pars = distribution_analysis(men_sample.Height, fit_distribution='normal',bins=10)"
   ]
  },
  {
   "cell_type": "markdown",
   "metadata": {},
   "source": [
    "Use the fitted distribution to assess the chances for observing extreme hight values. Imagine we're designing a door and want to know the percentage of people if could comfortably accomodate."
   ]
  },
  {
   "cell_type": "code",
   "execution_count": 14,
   "metadata": {},
   "outputs": [],
   "source": [
    "#the function reporting pecentage of extreme values above a given `threshold` according to the empiric `data`\n",
    "#as well as the theoretic distribution `dist` given its parameters `pars`\n",
    "def extreme_percentage(threshold, data, dist, pars):\n",
    "    if data is None:\n",
    "        empiric = None\n",
    "    else:\n",
    "        empiric = 100.0 * sum(data >= threshold)/len(data) #compute empiric propobability\n",
    "    if dist is None:\n",
    "        theoretic = None\n",
    "    else:\n",
    "        theoretic = 100.0 * (1 - dist.cdf(threshold, *pars)) #asses theoretic probability using cumulative distribution function\n",
    "    print('Percentage higher than {}: theory = {}, empiric = {}'.format(threshold, theoretic, empiric))"
   ]
  },
  {
   "cell_type": "code",
   "execution_count": 15,
   "metadata": {},
   "outputs": [
    {
     "name": "stdout",
     "output_type": "stream",
     "text": [
      "Percentage higher than 72: theory = 13.481970712238622, empiric = 12.0\n"
     ]
    }
   ],
   "source": [
    "#percetage of people at least 6' tall\n",
    "extreme_percentage(threshold = 72, data = men_sample.Height, dist = norm, pars = pars)"
   ]
  },
  {
   "cell_type": "markdown",
   "metadata": {},
   "source": [
    "We can see the theoretic and empuric estimates are similar, although of course not exactly the same"
   ]
  },
  {
   "cell_type": "code",
   "execution_count": 16,
   "metadata": {},
   "outputs": [
    {
     "name": "stdout",
     "output_type": "stream",
     "text": [
      "Percentage higher than 78: theory = 0.06394015857694724, empiric = 0.0\n"
     ]
    }
   ],
   "source": [
    "#percetage of people at least 6.5' tall\n",
    "extreme_percentage(threshold = 78, data = men_sample.Height, dist = norm, pars = pars)"
   ]
  },
  {
   "cell_type": "markdown",
   "metadata": {},
   "source": [
    "The theoretic estimate gives a somewhat low chance of 0.06%, while the sample of 100 people does not have heights above 6.5' at all, and this way fails to provide any reliable conclusion other than it should not be much higher than 1%. How appropriate is the theoretic estimate?"
   ]
  },
  {
   "cell_type": "code",
   "execution_count": 17,
   "metadata": {},
   "outputs": [],
   "source": [
    "#compare it against the empirical estimate from a larger sample "
   ]
  },
  {
   "cell_type": "code",
   "execution_count": 18,
   "metadata": {},
   "outputs": [
    {
     "name": "stdout",
     "output_type": "stream",
     "text": [
      "Percentage higher than 78: theory = 0.06394015857694724, empiric = 0.1\n"
     ]
    }
   ],
   "source": [
    "extreme_percentage(threshold = 78, data = men_height.Height, dist = norm, pars = pars)"
   ]
  },
  {
   "cell_type": "markdown",
   "metadata": {},
   "source": [
    "So the theoretic distribution provided an estimate pretty close to the one observed from a larger sample without seeing this sample! So it helped drawing a meaningful inferece from a small sample which by itself could not provide the direct empiric estimate. This is what theoretic exprapolation is about and we see it works. Based on it, if we make the door 6.5' hight it will accomodate 99.94% of men entering and even more women as they are less tall on average."
   ]
  },
  {
   "cell_type": "code",
   "execution_count": 19,
   "metadata": {},
   "outputs": [
    {
     "name": "stdout",
     "output_type": "stream",
     "text": [
      "Percentage higher than 84: theory = 4.7119495527603306e-06, empiric = 0.0\n"
     ]
    }
   ],
   "source": [
    "#and it can work much further, where even the larger complete sample fails to provide any estimates\n",
    "extreme_percentage(threshold = 84, data = men_height.Height, dist = norm, pars = pars)\n",
    "#the theoretic chance of meeting a man at least 7' tall is 1 out of 20M. No surpise we don't see those in the sample of 5000."
   ]
  },
  {
   "cell_type": "markdown",
   "metadata": {},
   "source": [
    "But not any theoretic inference can be reliable. E.g. if we fit a different kind of distribution - Pareto, the inferences change dramatically!"
   ]
  },
  {
   "cell_type": "code",
   "execution_count": 20,
   "metadata": {},
   "outputs": [
    {
     "name": "stdout",
     "output_type": "stream",
     "text": [
      "Mean = 68.87\n",
      "Standard deviation = 2.85\n",
      "1 percentile = 61.92\n",
      "5 percentile = 63.56\n",
      "25 percentile = 67.44\n",
      "50 percentile = 68.70\n",
      "75 percentile = 70.73\n",
      "95 percentile = 73.74\n",
      "99 percentile = 74.10\n"
     ]
    },
    {
     "name": "stderr",
     "output_type": "stream",
     "text": [
      "/usr/local/lib/python3.7/site-packages/scipy/stats/_distn_infrastructure.py:2407: RuntimeWarning: invalid value encountered in double_scalars\n",
      "  Lhat = muhat - Shat*mu\n"
     ]
    },
    {
     "data": {
      "image/png": "[encoded data removed]",
      "text/plain": [
       "<Figure size 432x288 with 1 Axes>"
      ]
     },
     "metadata": {
      "needs_background": "light"
     },
     "output_type": "display_data"
    }
   ],
   "source": [
    "pareto_pars = distribution_analysis(men_sample.Height, fit_distribution='pareto', bins=10)"
   ]
  },
  {
   "cell_type": "code",
   "execution_count": 21,
   "metadata": {},
   "outputs": [
    {
     "name": "stdout",
     "output_type": "stream",
     "text": [
      "Percentage higher than 84: theory = 6.291687302412141, empiric = 0.0\n"
     ]
    }
   ],
   "source": [
    "extreme_percentage(threshold = 84, data = men_height.Height, dist = pareto, pars = pareto_pars)"
   ]
  },
  {
   "cell_type": "markdown",
   "metadata": {},
   "source": [
    "It now gives more than a 6% chance (1 out of 16) for meeting an at least 7' tall man! Which is of course completely inconsistent with empirical observation..."
   ]
  },
  {
   "cell_type": "markdown",
   "metadata": {},
   "source": [
    "But if we look at the plot above, we see that the distribution did not really fit the sample well. So obviously its inferences can't be trusted.\n",
    "\n",
    "This assessment is visually obvious but it highlights the importance of assessing the quality of the model fit. We are going to provide some more robust quantitative criteria for it later in the class."
   ]
  },
  {
   "cell_type": "markdown",
   "metadata": {},
   "source": [
    "## Task 1. Weight analysis\n",
    "Fit the normal distribution to the a) men and b) women weight observations (use complete sample). Report the parameters and visulize the fit. c) Provide a theoretic and empiric assessment of observing a man and women heavier than 200 lb, 250 lb and 300 lb."
   ]
  },
  {
   "cell_type": "code",
   "execution_count": 22,
   "metadata": {
    "nbgrader": {
     "grade": true,
     "grade_id": "cell-ca1295db02183c4c",
     "locked": false,
     "points": 1,
     "schema_version": 3,
     "solution": true,
     "task": false
    }
   },
   "outputs": [
    {
     "name": "stdout",
     "output_type": "stream",
     "text": [
      "Mean = 187.02\n",
      "Standard deviation = 19.78\n",
      "1 percentile = 140.04\n",
      "5 percentile = 154.80\n",
      "25 percentile = 173.89\n",
      "50 percentile = 187.03\n",
      "75 percentile = 200.36\n",
      "95 percentile = 218.98\n",
      "99 percentile = 232.25\n"
     ]
    },
    {
     "data": {
      "image/png": "[encoded data removed]",
      "text/plain": [
       "<Figure size 432x288 with 1 Axes>"
      ]
     },
     "metadata": {
      "needs_background": "light"
     },
     "output_type": "display_data"
    }
   ],
   "source": [
    "#a)\n",
    "men_wpar = distribution_analysis(men_height.Weight, fit_distribution='normal', bins=40)"
   ]
  },
  {
   "cell_type": "code",
   "execution_count": 23,
   "metadata": {
    "nbgrader": {
     "grade": true,
     "grade_id": "cell-de22fd06e22af3df",
     "locked": false,
     "points": 1,
     "schema_version": 3,
     "solution": true,
     "task": false
    }
   },
   "outputs": [
    {
     "name": "stdout",
     "output_type": "stream",
     "text": [
      "Mean = 135.86\n",
      "Standard deviation = 19.02\n",
      "1 percentile = 92.12\n",
      "5 percentile = 103.96\n",
      "25 percentile = 122.93\n",
      "50 percentile = 136.12\n",
      "75 percentile = 148.81\n",
      "95 percentile = 166.78\n",
      "99 percentile = 179.18\n"
     ]
    },
    {
     "data": {
      "image/png": "[encoded data removed]",
      "text/plain": [
       "<Figure size 432x288 with 1 Axes>"
      ]
     },
     "metadata": {
      "needs_background": "light"
     },
     "output_type": "display_data"
    }
   ],
   "source": [
    "#b)\n",
    "women_wpar = distribution_analysis(women_height.Weight, fit_distribution='normal', bins=40)"
   ]
  },
  {
   "cell_type": "code",
   "execution_count": 63,
   "metadata": {
    "nbgrader": {
     "grade": false,
     "grade_id": "cell-6699fe146ff99768",
     "locked": false,
     "schema_version": 3,
     "solution": true,
     "task": false
    }
   },
   "outputs": [],
   "source": [
    "def extreme_percentage1(threshold, data, dist, pars):\n",
    "    if data is None:\n",
    "        empiric = None\n",
    "    else:\n",
    "        empiric = 100.0 * sum(data >= threshold)/len(data) #compute empiric propobability\n",
    "    if dist is None:\n",
    "        theoretic = None\n",
    "    else:\n",
    "        theoretic = 100.0 * (1 - dist.cdf(threshold, *pars)) #asses theoretic probability using cumulative distribution function\n",
    "    return theoretic, empiric\n",
    "\n",
    "def getAssessmentPerc(gender, weight):\n",
    "    \n",
    "    ###\n",
    "    if gender == 'men':\n",
    "        dat = men_height\n",
    "        par = men_wpar\n",
    "    else:\n",
    "        dat = women_height\n",
    "        par = women_wpar\n",
    "    \n",
    "    return extreme_percentage1(threshold = weight, data = dat.Weight, dist = norm, pars = par)\n",
    "    ###"
   ]
  },
  {
   "cell_type": "markdown",
   "metadata": {},
   "source": [
    "Finish the 'getAssessmentPerc' function by writing code in it. Note that it take two arguments: \n",
    "\n",
    "gender: 'men' or 'women'\n",
    "weight: number\n",
    "\n",
    "You should call the above 'extreme_percentage1' function in the code."
   ]
  },
  {
   "cell_type": "code",
   "execution_count": 61,
   "metadata": {
    "nbgrader": {
     "grade": true,
     "grade_id": "cell-07fa61ca8450ac55",
     "locked": true,
     "points": 1,
     "schema_version": 3,
     "solution": false,
     "task": false
    }
   },
   "outputs": [],
   "source": [
    "assert getAssessmentPerc('women', 200) == (0.03729399267543565, 0.02)\n",
    "\n",
    "### BEGIN HIDDEN TESTS\n",
    "assert getAssessmentPerc('men', 200) == (25.584310820070144, 25.58)\n",
    "### END HIDDEN TESTS"
   ]
  },
  {
   "cell_type": "markdown",
   "metadata": {},
   "source": [
    "## Example 2. Weather data"
   ]
  },
  {
   "cell_type": "markdown",
   "metadata": {},
   "source": [
    "Consider another example of weather data provided by https://www.noaa.gov\n",
    "\n",
    "It was collected for several weather stations accross NYC and includes the daily observations of minimal, maximal, average daily temperatures, precipitation and snowfall amounts."
   ]
  },
  {
   "cell_type": "code",
   "execution_count": 75,
   "metadata": {},
   "outputs": [],
   "source": [
    "NYCweather = pd.read_csv('https://raw.githubusercontent.com/CUSP2020PUI/Data/master/weather_daily.csv')"
   ]
  },
  {
   "cell_type": "code",
   "execution_count": 76,
   "metadata": {},
   "outputs": [
    {
     "data": {
      "text/html": [
       "<div>\n",
       "<style scoped>\n",
       "    .dataframe tbody tr th:only-of-type {\n",
       "        vertical-align: middle;\n",
       "    }\n",
       "\n",
       "    .dataframe tbody tr th {\n",
       "        vertical-align: top;\n",
       "    }\n",
       "\n",
       "    .dataframe thead th {\n",
       "        text-align: right;\n",
       "    }\n",
       "</style>\n",
       "<table border=\"1\" class=\"dataframe\">\n",
       "  <thead>\n",
       "    <tr style=\"text-align: right;\">\n",
       "      <th></th>\n",
       "      <th>date</th>\n",
       "      <th>maxtemp</th>\n",
       "      <th>mintemp</th>\n",
       "      <th>avgtemp</th>\n",
       "      <th>precipitation</th>\n",
       "      <th>snowfall</th>\n",
       "      <th>latitude</th>\n",
       "      <th>longitude</th>\n",
       "    </tr>\n",
       "  </thead>\n",
       "  <tbody>\n",
       "    <tr>\n",
       "      <td>0</td>\n",
       "      <td>1/1/11 0:00</td>\n",
       "      <td>51</td>\n",
       "      <td>38</td>\n",
       "      <td>44.5</td>\n",
       "      <td>0</td>\n",
       "      <td>0</td>\n",
       "      <td>40.84</td>\n",
       "      <td>-73.85</td>\n",
       "    </tr>\n",
       "    <tr>\n",
       "      <td>1</td>\n",
       "      <td>1/2/11 0:00</td>\n",
       "      <td>52</td>\n",
       "      <td>38</td>\n",
       "      <td>45</td>\n",
       "      <td>0.01</td>\n",
       "      <td>0</td>\n",
       "      <td>40.84</td>\n",
       "      <td>-73.85</td>\n",
       "    </tr>\n",
       "    <tr>\n",
       "      <td>2</td>\n",
       "      <td>1/3/11 0:00</td>\n",
       "      <td>38</td>\n",
       "      <td>29</td>\n",
       "      <td>33.5</td>\n",
       "      <td>0</td>\n",
       "      <td>0</td>\n",
       "      <td>40.84</td>\n",
       "      <td>-73.85</td>\n",
       "    </tr>\n",
       "    <tr>\n",
       "      <td>3</td>\n",
       "      <td>1/4/11 0:00</td>\n",
       "      <td>42</td>\n",
       "      <td>32</td>\n",
       "      <td>37</td>\n",
       "      <td>0</td>\n",
       "      <td>0</td>\n",
       "      <td>40.84</td>\n",
       "      <td>-73.85</td>\n",
       "    </tr>\n",
       "    <tr>\n",
       "      <td>4</td>\n",
       "      <td>1/5/11 0:00</td>\n",
       "      <td>40</td>\n",
       "      <td>32</td>\n",
       "      <td>36</td>\n",
       "      <td>0</td>\n",
       "      <td>0</td>\n",
       "      <td>40.84</td>\n",
       "      <td>-73.85</td>\n",
       "    </tr>\n",
       "  </tbody>\n",
       "</table>\n",
       "</div>"
      ],
      "text/plain": [
       "          date maxtemp mintemp avgtemp precipitation snowfall  latitude  \\\n",
       "0  1/1/11 0:00      51      38    44.5             0        0     40.84   \n",
       "1  1/2/11 0:00      52      38      45          0.01        0     40.84   \n",
       "2  1/3/11 0:00      38      29    33.5             0        0     40.84   \n",
       "3  1/4/11 0:00      42      32      37             0        0     40.84   \n",
       "4  1/5/11 0:00      40      32      36             0        0     40.84   \n",
       "\n",
       "   longitude  \n",
       "0     -73.85  \n",
       "1     -73.85  \n",
       "2     -73.85  \n",
       "3     -73.85  \n",
       "4     -73.85  "
      ]
     },
     "execution_count": 76,
     "metadata": {},
     "output_type": "execute_result"
    }
   ],
   "source": [
    "NYCweather.head()"
   ]
  },
  {
   "cell_type": "code",
   "execution_count": 77,
   "metadata": {},
   "outputs": [
    {
     "data": {
      "text/html": [
       "<div>\n",
       "<style scoped>\n",
       "    .dataframe tbody tr th:only-of-type {\n",
       "        vertical-align: middle;\n",
       "    }\n",
       "\n",
       "    .dataframe tbody tr th {\n",
       "        vertical-align: top;\n",
       "    }\n",
       "\n",
       "    .dataframe thead th {\n",
       "        text-align: right;\n",
       "    }\n",
       "</style>\n",
       "<table border=\"1\" class=\"dataframe\">\n",
       "  <thead>\n",
       "    <tr style=\"text-align: right;\">\n",
       "      <th></th>\n",
       "      <th>latitude</th>\n",
       "      <th>longitude</th>\n",
       "    </tr>\n",
       "  </thead>\n",
       "  <tbody>\n",
       "    <tr>\n",
       "      <td>count</td>\n",
       "      <td>4774.000000</td>\n",
       "      <td>4774.000000</td>\n",
       "    </tr>\n",
       "    <tr>\n",
       "      <td>mean</td>\n",
       "      <td>40.758513</td>\n",
       "      <td>-73.875316</td>\n",
       "    </tr>\n",
       "    <tr>\n",
       "      <td>std</td>\n",
       "      <td>0.068739</td>\n",
       "      <td>0.069974</td>\n",
       "    </tr>\n",
       "    <tr>\n",
       "      <td>min</td>\n",
       "      <td>40.650000</td>\n",
       "      <td>-73.970000</td>\n",
       "    </tr>\n",
       "    <tr>\n",
       "      <td>25%</td>\n",
       "      <td>40.650000</td>\n",
       "      <td>-73.970000</td>\n",
       "    </tr>\n",
       "    <tr>\n",
       "      <td>50%</td>\n",
       "      <td>40.770000</td>\n",
       "      <td>-73.900000</td>\n",
       "    </tr>\n",
       "    <tr>\n",
       "      <td>75%</td>\n",
       "      <td>40.780000</td>\n",
       "      <td>-73.780000</td>\n",
       "    </tr>\n",
       "    <tr>\n",
       "      <td>max</td>\n",
       "      <td>40.840000</td>\n",
       "      <td>-73.780000</td>\n",
       "    </tr>\n",
       "  </tbody>\n",
       "</table>\n",
       "</div>"
      ],
      "text/plain": [
       "          latitude    longitude\n",
       "count  4774.000000  4774.000000\n",
       "mean     40.758513   -73.875316\n",
       "std       0.068739     0.069974\n",
       "min      40.650000   -73.970000\n",
       "25%      40.650000   -73.970000\n",
       "50%      40.770000   -73.900000\n",
       "75%      40.780000   -73.780000\n",
       "max      40.840000   -73.780000"
      ]
     },
     "execution_count": 77,
     "metadata": {},
     "output_type": "execute_result"
    }
   ],
   "source": [
    "NYCweather.describe()"
   ]
  },
  {
   "cell_type": "markdown",
   "metadata": {},
   "source": [
    "As only lat-long seem to be numeric convert other fields of interst to the appropriate type"
   ]
  },
  {
   "cell_type": "code",
   "execution_count": 78,
   "metadata": {},
   "outputs": [],
   "source": [
    "for col in ['maxtemp','mintemp','avgtemp']:\n",
    "    NYCweather[col] = pd.to_numeric(NYCweather[col],errors='coerce')"
   ]
  },
  {
   "cell_type": "code",
   "execution_count": 79,
   "metadata": {},
   "outputs": [],
   "source": [
    "NYCweather.date = pd.to_datetime(NYCweather.date)"
   ]
  },
  {
   "cell_type": "code",
   "execution_count": 80,
   "metadata": {},
   "outputs": [],
   "source": [
    "NYCweather.dropna(inplace = True) #drop records with nan's"
   ]
  },
  {
   "cell_type": "code",
   "execution_count": 81,
   "metadata": {},
   "outputs": [
    {
     "data": {
      "text/plain": [
       "(Timestamp('2011-01-01 00:00:00'), Timestamp('2014-05-01 00:00:00'))"
      ]
     },
     "execution_count": 81,
     "metadata": {},
     "output_type": "execute_result"
    }
   ],
   "source": [
    "(NYCweather.date.min(),NYCweather.date.max()) #period of observation"
   ]
  },
  {
   "cell_type": "code",
   "execution_count": 82,
   "metadata": {},
   "outputs": [
    {
     "data": {
      "text/html": [
       "<div>\n",
       "<style scoped>\n",
       "    .dataframe tbody tr th:only-of-type {\n",
       "        vertical-align: middle;\n",
       "    }\n",
       "\n",
       "    .dataframe tbody tr th {\n",
       "        vertical-align: top;\n",
       "    }\n",
       "\n",
       "    .dataframe thead th {\n",
       "        text-align: right;\n",
       "    }\n",
       "</style>\n",
       "<table border=\"1\" class=\"dataframe\">\n",
       "  <thead>\n",
       "    <tr style=\"text-align: right;\">\n",
       "      <th></th>\n",
       "      <th></th>\n",
       "      <th>date</th>\n",
       "    </tr>\n",
       "    <tr>\n",
       "      <th>latitude</th>\n",
       "      <th>longitude</th>\n",
       "      <th></th>\n",
       "    </tr>\n",
       "  </thead>\n",
       "  <tbody>\n",
       "    <tr>\n",
       "      <td>40.65</td>\n",
       "      <td>-73.78</td>\n",
       "      <td>1217</td>\n",
       "    </tr>\n",
       "    <tr>\n",
       "      <td>40.77</td>\n",
       "      <td>-73.90</td>\n",
       "      <td>1217</td>\n",
       "    </tr>\n",
       "    <tr>\n",
       "      <td>40.78</td>\n",
       "      <td>-73.97</td>\n",
       "      <td>1210</td>\n",
       "    </tr>\n",
       "    <tr>\n",
       "      <td>40.84</td>\n",
       "      <td>-73.85</td>\n",
       "      <td>824</td>\n",
       "    </tr>\n",
       "  </tbody>\n",
       "</table>\n",
       "</div>"
      ],
      "text/plain": [
       "                    date\n",
       "latitude longitude      \n",
       "40.65    -73.78     1217\n",
       "40.77    -73.90     1217\n",
       "40.78    -73.97     1210\n",
       "40.84    -73.85      824"
      ]
     },
     "execution_count": 82,
     "metadata": {},
     "output_type": "execute_result"
    }
   ],
   "source": [
    "NYCweather[['latitude','longitude','date']].groupby(['latitude','longitude']).count() #see the observations per station"
   ]
  },
  {
   "cell_type": "code",
   "execution_count": 83,
   "metadata": {},
   "outputs": [],
   "source": [
    "NYCweather = NYCweather[NYCweather.latitude == 40.77] #take one of the two stations (in Long Island City) with max observation days "
   ]
  },
  {
   "cell_type": "code",
   "execution_count": 84,
   "metadata": {},
   "outputs": [
    {
     "data": {
      "text/plain": [
       "1217"
      ]
     },
     "execution_count": 84,
     "metadata": {},
     "output_type": "execute_result"
    }
   ],
   "source": [
    "len(NYCweather)"
   ]
  },
  {
   "cell_type": "markdown",
   "metadata": {},
   "source": [
    "Now look at the distribution of the average daily temperatures"
   ]
  },
  {
   "cell_type": "code",
   "execution_count": 96,
   "metadata": {},
   "outputs": [
    {
     "name": "stdout",
     "output_type": "stream",
     "text": [
      "Mean = 55.15\n",
      "Standard deviation = 17.45\n",
      "1 percentile = 19.50\n",
      "5 percentile = 27.90\n",
      "25 percentile = 41.00\n",
      "50 percentile = 54.50\n",
      "75 percentile = 71.00\n",
      "95 percentile = 82.50\n",
      "99 percentile = 87.00\n"
     ]
    },
    {
     "data": {
      "image/png": "[encoded data removed]",
      "text/plain": [
       "<Figure size 432x288 with 1 Axes>"
      ]
     },
     "metadata": {
      "needs_background": "light"
     },
     "output_type": "display_data"
    },
    {
     "data": {
      "text/plain": [
       "(55.14749383730485, 17.44202216213827)"
      ]
     },
     "execution_count": 96,
     "metadata": {},
     "output_type": "execute_result"
    }
   ],
   "source": [
    "distribution_analysis(NYCweather.avgtemp, fit_distribution='normal',bins=12)"
   ]
  },
  {
   "cell_type": "markdown",
   "metadata": {},
   "source": [
    "The distribution generally resembles the bell curve but does not look that consistent. Perhaps this is because we have seasons in NYC and summer temperatures are nothing alike winter temperatures?\n",
    "\n",
    "Let's filter only summer and take the max temperatures for this period"
   ]
  },
  {
   "cell_type": "code",
   "execution_count": 87,
   "metadata": {},
   "outputs": [],
   "source": [
    "NYCweather['month'] = pd.DatetimeIndex(NYCweather['date']).month #get the month from the date"
   ]
  },
  {
   "cell_type": "code",
   "execution_count": 88,
   "metadata": {},
   "outputs": [],
   "source": [
    "NYCsummer=NYCweather[(NYCweather['month']>=6) & (NYCweather['month']<=8)] #filter the summer observations only"
   ]
  },
  {
   "cell_type": "code",
   "execution_count": 98,
   "metadata": {},
   "outputs": [
    {
     "name": "stdout",
     "output_type": "stream",
     "text": [
      "Mean = 76.94\n",
      "Standard deviation = 6.08\n",
      "1 percentile = 62.00\n",
      "5 percentile = 66.38\n",
      "25 percentile = 73.00\n",
      "50 percentile = 77.00\n",
      "75 percentile = 81.50\n",
      "95 percentile = 86.25\n",
      "99 percentile = 89.62\n"
     ]
    },
    {
     "data": {
      "image/png": "[encoded data removed]",
      "text/plain": [
       "<Figure size 432x288 with 1 Axes>"
      ]
     },
     "metadata": {
      "needs_background": "light"
     },
     "output_type": "display_data"
    },
    {
     "data": {
      "text/plain": [
       "(76.93659420289855, 6.071327362017139)"
      ]
     },
     "execution_count": 98,
     "metadata": {},
     "output_type": "execute_result"
    }
   ],
   "source": [
    "distribution_analysis(NYCsummer.avgtemp, fit_distribution='normal',bins=12) #avg temp distribution"
   ]
  },
  {
   "cell_type": "code",
   "execution_count": 99,
   "metadata": {},
   "outputs": [
    {
     "name": "stdout",
     "output_type": "stream",
     "text": [
      "Mean = 84.16\n",
      "Standard deviation = 7.13\n",
      "1 percentile = 67.25\n",
      "5 percentile = 72.00\n",
      "25 percentile = 80.00\n",
      "50 percentile = 84.00\n",
      "75 percentile = 89.00\n",
      "95 percentile = 96.25\n",
      "99 percentile = 100.00\n"
     ]
    },
    {
     "data": {
      "image/png": "[encoded data removed]",
      "text/plain": [
       "<Figure size 432x288 with 1 Axes>"
      ]
     },
     "metadata": {
      "needs_background": "light"
     },
     "output_type": "display_data"
    }
   ],
   "source": [
    "summertemp_pars = distribution_analysis(NYCsummer.maxtemp, fit_distribution='normal',bins=12) #max temp distribution"
   ]
  },
  {
   "cell_type": "markdown",
   "metadata": {},
   "source": [
    "What is the theoretic and emprical chance of encountering a max temp above 100 degrees? Above 105?"
   ]
  },
  {
   "cell_type": "code",
   "execution_count": 101,
   "metadata": {},
   "outputs": [
    {
     "name": "stdout",
     "output_type": "stream",
     "text": [
      "Percentage higher than 100: theory = 1.2997506272690917, empiric = 1.4492753623188406\n"
     ]
    }
   ],
   "source": [
    "extreme_percentage(threshold = 100, data = NYCsummer.maxtemp, dist = norm, pars = summertemp_pars)"
   ]
  },
  {
   "cell_type": "code",
   "execution_count": 103,
   "metadata": {},
   "outputs": [
    {
     "name": "stdout",
     "output_type": "stream",
     "text": [
      "Percentage higher than 105: theory = 0.17002588174360733, empiric = 0.0\n"
     ]
    }
   ],
   "source": [
    "extreme_percentage(threshold = 105, data = NYCsummer.maxtemp, dist = norm, pars = summertemp_pars)"
   ]
  },
  {
   "cell_type": "markdown",
   "metadata": {},
   "source": [
    "## Task 2. Analyze the distribution of winter min temperatures. \n",
    "Consider only the months of 12,1,2. Fit the normal distribution. Assess the chance of encountering a min temperature below 20, 10, 0F\n",
    "\n",
    "Note: you'll need to modify the extreme_percentage function to return low percentages (create a new one extreme_low_percentage) \n",
    "\n",
    "Extracredit: can you think of the way of getting those extreme low percentages (theoretic or both - theoretic and empiric) using the old version of the function?"
   ]
  },
  {
   "cell_type": "code",
   "execution_count": 105,
   "metadata": {
    "nbgrader": {
     "grade": true,
     "grade_id": "cell-a9e9131d15686fc0",
     "locked": false,
     "points": 1,
     "schema_version": 3,
     "solution": true,
     "task": false
    }
   },
   "outputs": [
    {
     "name": "stdout",
     "output_type": "stream",
     "text": [
      "Mean = 30.63\n",
      "Standard deviation = 8.88\n",
      "1 percentile = 9.00\n",
      "5 percentile = 14.45\n",
      "25 percentile = 25.00\n",
      "50 percentile = 32.00\n",
      "75 percentile = 37.00\n",
      "95 percentile = 44.00\n",
      "99 percentile = 49.42\n"
     ]
    },
    {
     "data": {
      "image/png": "[encoded data removed]",
      "text/plain": [
       "<Figure size 432x288 with 1 Axes>"
      ]
     },
     "metadata": {
      "needs_background": "light"
     },
     "output_type": "display_data"
    }
   ],
   "source": [
    "NYCwinter=NYCweather[(NYCweather['month']==12) | (NYCweather['month']<=2)] #take the winter observations only\n",
    "wintertemp_pars = distribution_analysis(NYCwinter.mintemp, fit_distribution='normal',bins=12) #min temp distribution"
   ]
  },
  {
   "cell_type": "code",
   "execution_count": 1,
   "metadata": {
    "nbgrader": {
     "grade": false,
     "grade_id": "cell-ad276079ab20d165",
     "locked": false,
     "schema_version": 3,
     "solution": true,
     "task": false
    }
   },
   "outputs": [],
   "source": [
    "#modification of the function to report percentages of lower outliers\n",
    "def extreme_low_percentage(threshold, data, dist, pars):\n",
    "    \n",
    "    ###\n",
    "    if data is None:\n",
    "        empiric = None\n",
    "    else:\n",
    "        empiric = 100.0 * sum(data <= threshold)/len(data) #compute empiric propobability\n",
    "    if dist is None:\n",
    "        theoretic = None\n",
    "    else:\n",
    "        theoretic = 100.0 * dist.cdf(threshold, *pars) #asses theoretic probability using cumulative distribution function\n",
    "    return theoretic, empiric"
   ]
  },
  {
   "cell_type": "code",
   "execution_count": null,
   "metadata": {
    "nbgrader": {
     "grade": true,
     "grade_id": "cell-df1222e8e5bb7efb",
     "locked": true,
     "points": 1,
     "schema_version": 3,
     "solution": false,
     "task": false
    }
   },
   "outputs": [],
   "source": [
    "assert extreme_low_percentage(threshold = 10, data = NYCwinter.mintemp, dist = norm, pars = wintertemp_pars) == (11.525555211201777, 12.727272727272727)"
   ]
  },
  {
   "cell_type": "code",
   "execution_count": 112,
   "metadata": {
    "nbgrader": {
     "grade": true,
     "grade_id": "cell-6552907d6fa33a7f",
     "locked": false,
     "points": 1,
     "schema_version": 3,
     "solution": true,
     "task": false
    }
   },
   "outputs": [
    {
     "name": "stdout",
     "output_type": "stream",
     "text": [
      "Note that reported thresholds are reflected around zero\n",
      "Percentage higher than -20: theory = 11.525555211201777, empiric = 12.727272727272727\n",
      "Percentage higher than -10: theory = 0.9974297526919362, empiric = 2.4242424242424243\n",
      "Percentage higher than 0: theory = 0.027455170747847646, empiric = 0.0\n"
     ]
    }
   ],
   "source": [
    "# wayaround with using the old function.\n",
    "print ('Note that reported thresholds are reflected around zero')\n",
    "for t in [20, 10, 0]:\n",
    "    extreme_percentage(threshold = -t, data = -NYCwinter.mintemp, dist = norm, pars = (-wintertemp_pars[0],wintertemp_pars[1]))"
   ]
  },
  {
   "cell_type": "markdown",
   "metadata": {},
   "source": [
    "# Example 3. City sizes"
   ]
  },
  {
   "cell_type": "markdown",
   "metadata": {},
   "source": [
    "Analyze the distribution of city sizes accross US and the world based on the data from https://simplemaps.com/data/world-cities"
   ]
  },
  {
   "cell_type": "code",
   "execution_count": 113,
   "metadata": {},
   "outputs": [],
   "source": [
    "UScities = pd.read_csv('https://raw.githubusercontent.com/CUSP2020PUI/Data/master/uscities.csv')"
   ]
  },
  {
   "cell_type": "code",
   "execution_count": 114,
   "metadata": {},
   "outputs": [
    {
     "data": {
      "text/html": [
       "<div>\n",
       "<style scoped>\n",
       "    .dataframe tbody tr th:only-of-type {\n",
       "        vertical-align: middle;\n",
       "    }\n",
       "\n",
       "    .dataframe tbody tr th {\n",
       "        vertical-align: top;\n",
       "    }\n",
       "\n",
       "    .dataframe thead th {\n",
       "        text-align: right;\n",
       "    }\n",
       "</style>\n",
       "<table border=\"1\" class=\"dataframe\">\n",
       "  <thead>\n",
       "    <tr style=\"text-align: right;\">\n",
       "      <th></th>\n",
       "      <th>city</th>\n",
       "      <th>city_ascii</th>\n",
       "      <th>state_id</th>\n",
       "      <th>state_name</th>\n",
       "      <th>county_fips</th>\n",
       "      <th>county_name</th>\n",
       "      <th>lat</th>\n",
       "      <th>lng</th>\n",
       "      <th>population</th>\n",
       "      <th>density</th>\n",
       "      <th>source</th>\n",
       "      <th>military</th>\n",
       "      <th>incorporated</th>\n",
       "      <th>timezone</th>\n",
       "      <th>ranking</th>\n",
       "      <th>zips</th>\n",
       "      <th>id</th>\n",
       "    </tr>\n",
       "  </thead>\n",
       "  <tbody>\n",
       "    <tr>\n",
       "      <td>0</td>\n",
       "      <td>New York</td>\n",
       "      <td>New York</td>\n",
       "      <td>NY</td>\n",
       "      <td>New York</td>\n",
       "      <td>36061</td>\n",
       "      <td>New York</td>\n",
       "      <td>40.6943</td>\n",
       "      <td>-73.9249</td>\n",
       "      <td>18713220.0</td>\n",
       "      <td>10715.0</td>\n",
       "      <td>polygon</td>\n",
       "      <td>False</td>\n",
       "      <td>True</td>\n",
       "      <td>America/New_York</td>\n",
       "      <td>1</td>\n",
       "      <td>11229 11226 11225 11224 11222 11221 11220 1138...</td>\n",
       "      <td>1840034016</td>\n",
       "    </tr>\n",
       "    <tr>\n",
       "      <td>1</td>\n",
       "      <td>Los Angeles</td>\n",
       "      <td>Los Angeles</td>\n",
       "      <td>CA</td>\n",
       "      <td>California</td>\n",
       "      <td>6037</td>\n",
       "      <td>Los Angeles</td>\n",
       "      <td>34.1139</td>\n",
       "      <td>-118.4068</td>\n",
       "      <td>12750807.0</td>\n",
       "      <td>3276.0</td>\n",
       "      <td>polygon</td>\n",
       "      <td>False</td>\n",
       "      <td>True</td>\n",
       "      <td>America/Los_Angeles</td>\n",
       "      <td>1</td>\n",
       "      <td>90291 90293 90292 91316 91311 90037 90031 9000...</td>\n",
       "      <td>1840020491</td>\n",
       "    </tr>\n",
       "    <tr>\n",
       "      <td>2</td>\n",
       "      <td>Chicago</td>\n",
       "      <td>Chicago</td>\n",
       "      <td>IL</td>\n",
       "      <td>Illinois</td>\n",
       "      <td>17031</td>\n",
       "      <td>Cook</td>\n",
       "      <td>41.8373</td>\n",
       "      <td>-87.6862</td>\n",
       "      <td>8604203.0</td>\n",
       "      <td>4574.0</td>\n",
       "      <td>polygon</td>\n",
       "      <td>False</td>\n",
       "      <td>True</td>\n",
       "      <td>America/Chicago</td>\n",
       "      <td>1</td>\n",
       "      <td>60018 60649 60641 60640 60643 60642 60645 6064...</td>\n",
       "      <td>1840000494</td>\n",
       "    </tr>\n",
       "    <tr>\n",
       "      <td>3</td>\n",
       "      <td>Miami</td>\n",
       "      <td>Miami</td>\n",
       "      <td>FL</td>\n",
       "      <td>Florida</td>\n",
       "      <td>12086</td>\n",
       "      <td>Miami-Dade</td>\n",
       "      <td>25.7839</td>\n",
       "      <td>-80.2102</td>\n",
       "      <td>6445545.0</td>\n",
       "      <td>5019.0</td>\n",
       "      <td>polygon</td>\n",
       "      <td>False</td>\n",
       "      <td>True</td>\n",
       "      <td>America/New_York</td>\n",
       "      <td>1</td>\n",
       "      <td>33129 33125 33126 33127 33128 33149 33144 3314...</td>\n",
       "      <td>1840015149</td>\n",
       "    </tr>\n",
       "    <tr>\n",
       "      <td>4</td>\n",
       "      <td>Dallas</td>\n",
       "      <td>Dallas</td>\n",
       "      <td>TX</td>\n",
       "      <td>Texas</td>\n",
       "      <td>48113</td>\n",
       "      <td>Dallas</td>\n",
       "      <td>32.7936</td>\n",
       "      <td>-96.7662</td>\n",
       "      <td>5743938.0</td>\n",
       "      <td>1526.0</td>\n",
       "      <td>polygon</td>\n",
       "      <td>False</td>\n",
       "      <td>True</td>\n",
       "      <td>America/Chicago</td>\n",
       "      <td>1</td>\n",
       "      <td>75287 75098 75233 75254 75251 75252 75253 7503...</td>\n",
       "      <td>1840019440</td>\n",
       "    </tr>\n",
       "  </tbody>\n",
       "</table>\n",
       "</div>"
      ],
      "text/plain": [
       "          city   city_ascii state_id  state_name  county_fips  county_name  \\\n",
       "0     New York     New York       NY    New York        36061     New York   \n",
       "1  Los Angeles  Los Angeles       CA  California         6037  Los Angeles   \n",
       "2      Chicago      Chicago       IL    Illinois        17031         Cook   \n",
       "3        Miami        Miami       FL     Florida        12086   Miami-Dade   \n",
       "4       Dallas       Dallas       TX       Texas        48113       Dallas   \n",
       "\n",
       "       lat       lng  population  density   source  military  incorporated  \\\n",
       "0  40.6943  -73.9249  18713220.0  10715.0  polygon     False          True   \n",
       "1  34.1139 -118.4068  12750807.0   3276.0  polygon     False          True   \n",
       "2  41.8373  -87.6862   8604203.0   4574.0  polygon     False          True   \n",
       "3  25.7839  -80.2102   6445545.0   5019.0  polygon     False          True   \n",
       "4  32.7936  -96.7662   5743938.0   1526.0  polygon     False          True   \n",
       "\n",
       "              timezone  ranking  \\\n",
       "0     America/New_York        1   \n",
       "1  America/Los_Angeles        1   \n",
       "2      America/Chicago        1   \n",
       "3     America/New_York        1   \n",
       "4      America/Chicago        1   \n",
       "\n",
       "                                                zips          id  \n",
       "0  11229 11226 11225 11224 11222 11221 11220 1138...  1840034016  \n",
       "1  90291 90293 90292 91316 91311 90037 90031 9000...  1840020491  \n",
       "2  60018 60649 60641 60640 60643 60642 60645 6064...  1840000494  \n",
       "3  33129 33125 33126 33127 33128 33149 33144 3314...  1840015149  \n",
       "4  75287 75098 75233 75254 75251 75252 75253 7503...  1840019440  "
      ]
     },
     "execution_count": 114,
     "metadata": {},
     "output_type": "execute_result"
    }
   ],
   "source": [
    "UScities.head()"
   ]
  },
  {
   "cell_type": "code",
   "execution_count": 115,
   "metadata": {},
   "outputs": [
    {
     "data": {
      "text/html": [
       "<div>\n",
       "<style scoped>\n",
       "    .dataframe tbody tr th:only-of-type {\n",
       "        vertical-align: middle;\n",
       "    }\n",
       "\n",
       "    .dataframe tbody tr th {\n",
       "        vertical-align: top;\n",
       "    }\n",
       "\n",
       "    .dataframe thead th {\n",
       "        text-align: right;\n",
       "    }\n",
       "</style>\n",
       "<table border=\"1\" class=\"dataframe\">\n",
       "  <thead>\n",
       "    <tr style=\"text-align: right;\">\n",
       "      <th></th>\n",
       "      <th>county_fips</th>\n",
       "      <th>lat</th>\n",
       "      <th>lng</th>\n",
       "      <th>population</th>\n",
       "      <th>density</th>\n",
       "      <th>ranking</th>\n",
       "      <th>id</th>\n",
       "    </tr>\n",
       "  </thead>\n",
       "  <tbody>\n",
       "    <tr>\n",
       "      <td>count</td>\n",
       "      <td>29488.000000</td>\n",
       "      <td>29488.000000</td>\n",
       "      <td>29488.000000</td>\n",
       "      <td>2.948800e+04</td>\n",
       "      <td>29488.000000</td>\n",
       "      <td>29488.000000</td>\n",
       "      <td>2.948800e+04</td>\n",
       "    </tr>\n",
       "    <tr>\n",
       "      <td>mean</td>\n",
       "      <td>29940.044018</td>\n",
       "      <td>38.716075</td>\n",
       "      <td>-92.584179</td>\n",
       "      <td>1.379529e+04</td>\n",
       "      <td>511.632932</td>\n",
       "      <td>2.947368</td>\n",
       "      <td>1.838234e+09</td>\n",
       "    </tr>\n",
       "    <tr>\n",
       "      <td>std</td>\n",
       "      <td>15768.565361</td>\n",
       "      <td>5.877632</td>\n",
       "      <td>15.767434</td>\n",
       "      <td>1.860881e+05</td>\n",
       "      <td>779.074081</td>\n",
       "      <td>0.231063</td>\n",
       "      <td>1.929139e+07</td>\n",
       "    </tr>\n",
       "    <tr>\n",
       "      <td>min</td>\n",
       "      <td>1001.000000</td>\n",
       "      <td>17.955900</td>\n",
       "      <td>-176.629500</td>\n",
       "      <td>0.000000e+00</td>\n",
       "      <td>0.000000</td>\n",
       "      <td>1.000000</td>\n",
       "      <td>1.630024e+09</td>\n",
       "    </tr>\n",
       "    <tr>\n",
       "      <td>25%</td>\n",
       "      <td>17201.000000</td>\n",
       "      <td>35.225400</td>\n",
       "      <td>-98.115500</td>\n",
       "      <td>3.230000e+02</td>\n",
       "      <td>115.000000</td>\n",
       "      <td>3.000000</td>\n",
       "      <td>1.840008e+09</td>\n",
       "    </tr>\n",
       "    <tr>\n",
       "      <td>50%</td>\n",
       "      <td>30031.000000</td>\n",
       "      <td>39.478250</td>\n",
       "      <td>-89.914750</td>\n",
       "      <td>1.074000e+03</td>\n",
       "      <td>295.000000</td>\n",
       "      <td>3.000000</td>\n",
       "      <td>1.840016e+09</td>\n",
       "    </tr>\n",
       "    <tr>\n",
       "      <td>75%</td>\n",
       "      <td>42041.000000</td>\n",
       "      <td>41.927575</td>\n",
       "      <td>-81.444125</td>\n",
       "      <td>4.323250e+03</td>\n",
       "      <td>601.000000</td>\n",
       "      <td>3.000000</td>\n",
       "      <td>1.840024e+09</td>\n",
       "    </tr>\n",
       "    <tr>\n",
       "      <td>max</td>\n",
       "      <td>72153.000000</td>\n",
       "      <td>71.272800</td>\n",
       "      <td>173.123000</td>\n",
       "      <td>1.871322e+07</td>\n",
       "      <td>33191.000000</td>\n",
       "      <td>4.000000</td>\n",
       "      <td>1.840142e+09</td>\n",
       "    </tr>\n",
       "  </tbody>\n",
       "</table>\n",
       "</div>"
      ],
      "text/plain": [
       "        county_fips           lat           lng    population       density  \\\n",
       "count  29488.000000  29488.000000  29488.000000  2.948800e+04  29488.000000   \n",
       "mean   29940.044018     38.716075    -92.584179  1.379529e+04    511.632932   \n",
       "std    15768.565361      5.877632     15.767434  1.860881e+05    779.074081   \n",
       "min     1001.000000     17.955900   -176.629500  0.000000e+00      0.000000   \n",
       "25%    17201.000000     35.225400    -98.115500  3.230000e+02    115.000000   \n",
       "50%    30031.000000     39.478250    -89.914750  1.074000e+03    295.000000   \n",
       "75%    42041.000000     41.927575    -81.444125  4.323250e+03    601.000000   \n",
       "max    72153.000000     71.272800    173.123000  1.871322e+07  33191.000000   \n",
       "\n",
       "            ranking            id  \n",
       "count  29488.000000  2.948800e+04  \n",
       "mean       2.947368  1.838234e+09  \n",
       "std        0.231063  1.929139e+07  \n",
       "min        1.000000  1.630024e+09  \n",
       "25%        3.000000  1.840008e+09  \n",
       "50%        3.000000  1.840016e+09  \n",
       "75%        3.000000  1.840024e+09  \n",
       "max        4.000000  1.840142e+09  "
      ]
     },
     "execution_count": 115,
     "metadata": {},
     "output_type": "execute_result"
    }
   ],
   "source": [
    "UScities.describe() #we have cities with zero population"
   ]
  },
  {
   "cell_type": "code",
   "execution_count": 117,
   "metadata": {},
   "outputs": [],
   "source": [
    "UScities = UScities[UScities.population >= 100] #keep only those with at least 100 residents"
   ]
  },
  {
   "cell_type": "code",
   "execution_count": 118,
   "metadata": {},
   "outputs": [
    {
     "data": {
      "text/plain": [
       "27127"
      ]
     },
     "execution_count": 118,
     "metadata": {},
     "output_type": "execute_result"
    }
   ],
   "source": [
    "len(UScities) #there are 27k of US cities in the database"
   ]
  },
  {
   "cell_type": "code",
   "execution_count": 122,
   "metadata": {},
   "outputs": [
    {
     "name": "stdout",
     "output_type": "stream",
     "text": [
      "Mean = 14991.52\n",
      "Standard deviation = 193971.44\n",
      "1 percentile = 110.00\n",
      "5 percentile = 151.00\n",
      "25 percentile = 441.00\n",
      "50 percentile = 1307.00\n",
      "75 percentile = 4933.00\n",
      "95 percentile = 36304.50\n",
      "99 percentile = 163940.38\n"
     ]
    },
    {
     "data": {
      "image/png": "[encoded data removed]",
      "text/plain": [
       "<Figure size 432x288 with 1 Axes>"
      ]
     },
     "metadata": {
      "needs_background": "light"
     },
     "output_type": "display_data"
    }
   ],
   "source": [
    "distribution_analysis(UScities.population, vis_means = False) \n",
    "#clearly visualizing the distribution on the original scale does not make much sense\n",
    "#this is because the scale ranges considerable (std so much higher than the mean)"
   ]
  },
  {
   "cell_type": "code",
   "execution_count": 123,
   "metadata": {},
   "outputs": [
    {
     "name": "stdout",
     "output_type": "stream",
     "text": [
      "Log mean = 3.22(1650.61), mean = 14991.52\n",
      "Standard deviation = 0.74\n",
      "1 percentile = 110.00\n",
      "5 percentile = 151.00\n",
      "25 percentile = 441.00\n",
      "50 percentile = 1307.00\n",
      "75 percentile = 4933.00\n",
      "95 percentile = 36304.50\n",
      "99 percentile = 163940.38\n"
     ]
    },
    {
     "data": {
      "image/png": "[encoded data removed]",
      "text/plain": [
       "<Figure size 432x288 with 1 Axes>"
      ]
     },
     "metadata": {
      "needs_background": "light"
     },
     "output_type": "display_data"
    }
   ],
   "source": [
    "#let's repeat on the log-scale \n",
    "distribution_analysis(UScities.population, log_scale=True)"
   ]
  },
  {
   "cell_type": "code",
   "execution_count": 125,
   "metadata": {},
   "outputs": [
    {
     "name": "stdout",
     "output_type": "stream",
     "text": [
      "Log mean = 3.22(1650.61), mean = 14991.52\n",
      "Standard deviation = 0.74\n",
      "1 percentile = 110.00\n",
      "5 percentile = 151.00\n",
      "25 percentile = 441.00\n",
      "50 percentile = 1307.00\n",
      "75 percentile = 4933.00\n",
      "95 percentile = 36304.50\n",
      "99 percentile = 163940.38\n"
     ]
    },
    {
     "data": {
      "image/png": "[encoded data removed]",
      "text/plain": [
       "<Figure size 432x288 with 1 Axes>"
      ]
     },
     "metadata": {
      "needs_background": "light"
     },
     "output_type": "display_data"
    },
    {
     "data": {
      "text/plain": [
       "(3.2176434376889214, 0.744223545403654)"
      ]
     },
     "execution_count": 125,
     "metadata": {},
     "output_type": "execute_result"
    }
   ],
   "source": [
    "#the distribution now makes more sense; but as its not centered around mean, the normal distribution won't fit well\n",
    "distribution_analysis(UScities.population, log_scale=True, fit_distribution='normal')"
   ]
  },
  {
   "cell_type": "code",
   "execution_count": 126,
   "metadata": {},
   "outputs": [
    {
     "name": "stdout",
     "output_type": "stream",
     "text": [
      "Log mean = 3.22(1650.61), mean = 14991.52\n",
      "Standard deviation = 0.74\n",
      "1 percentile = 110.00\n",
      "5 percentile = 151.00\n",
      "25 percentile = 441.00\n",
      "50 percentile = 1307.00\n",
      "75 percentile = 4933.00\n",
      "95 percentile = 36304.50\n",
      "99 percentile = 163940.38\n"
     ]
    },
    {
     "data": {
      "image/png": "[encoded data removed]",
      "text/plain": [
       "<Figure size 432x288 with 1 Axes>"
      ]
     },
     "metadata": {
      "needs_background": "light"
     },
     "output_type": "display_data"
    }
   ],
   "source": [
    "#lets try GEV instead\n",
    "pars = distribution_analysis(UScities.population, log_scale=True, fit_distribution='gev')"
   ]
  },
  {
   "cell_type": "markdown",
   "metadata": {},
   "source": [
    "It fits better but maybe not perfectly well"
   ]
  },
  {
   "cell_type": "markdown",
   "metadata": {},
   "source": [
    "Let's also try a rank plot visualization"
   ]
  },
  {
   "cell_type": "code",
   "execution_count": 127,
   "metadata": {},
   "outputs": [],
   "source": [
    "#function visualizing the rank plot for the 'top_percentile' of the values 'x' on the `log_scale` by default\n",
    "def rank_plot(x, log_scale = True, top_percentile = 100):\n",
    "    v = np.sort(x)[::-1]\n",
    "    r = np.arange(1.0,len(x)+0.1,1.0) / len(x)\n",
    "    st = ''\n",
    "    v = v[r<=top_percentile/100.0]; r = r[r<=top_percentile/100.0]\n",
    "    if log_scale:\n",
    "        r = np.log10(r)\n",
    "        v = np.log10(v)\n",
    "        st = 'log'\n",
    "    plt.plot(r,v,'o:')\n",
    "    plt.xlabel(st+'rank')\n",
    "    plt.ylabel(st+'value')"
   ]
  },
  {
   "cell_type": "code",
   "execution_count": 128,
   "metadata": {},
   "outputs": [
    {
     "data": {
      "image/png": "[encoded data removed]",
      "text/plain": [
       "<Figure size 432x288 with 1 Axes>"
      ]
     },
     "metadata": {
      "needs_background": "light"
     },
     "output_type": "display_data"
    }
   ],
   "source": [
    "rank_plot(UScities.population) #we can see the log-log rank plot nearly linear in the beginning"
   ]
  },
  {
   "cell_type": "code",
   "execution_count": 134,
   "metadata": {},
   "outputs": [
    {
     "data": {
      "image/png": "[encoded data removed]",
      "text/plain": [
       "<Figure size 432x288 with 1 Axes>"
      ]
     },
     "metadata": {
      "needs_background": "light"
     },
     "output_type": "display_data"
    }
   ],
   "source": [
    "rank_plot(UScities.population, top_percentile = 25) #so now focus on the top 25% of the cities (those are the ones above 5000 residents)"
   ]
  },
  {
   "cell_type": "markdown",
   "metadata": {},
   "source": [
    "The plot is nearly linear with the slope coefficient pretty close to -1. It corresponds to an almost perfect Zipf law $$Population \\sim \\frac{1}{rank}$$"
   ]
  },
  {
   "cell_type": "code",
   "execution_count": 166,
   "metadata": {},
   "outputs": [],
   "source": [
    "#introduce a function reporting cumulative population of the `top_percentile` cities\n",
    "def pareto_percent(top_percentile, data):\n",
    "    empiric = 100.0 * sum(data[data >= np.percentile(data, 100.0 - top_percentile)])/sum(data)\n",
    "    print('Top {} percent observations contribute {} percent of the total'.format(top_percentile, empiric))"
   ]
  },
  {
   "cell_type": "code",
   "execution_count": 172,
   "metadata": {},
   "outputs": [
    {
     "name": "stdout",
     "output_type": "stream",
     "text": [
      "Top 20 percent observations contribute 91.86801721653124 percent of the total\n"
     ]
    }
   ],
   "source": [
    "pareto_percent(20,UScities.population) #to 20 percent of cities cover even more than 80% - >90% of the total population"
   ]
  },
  {
   "cell_type": "code",
   "execution_count": 39,
   "metadata": {},
   "outputs": [
    {
     "name": "stdout",
     "output_type": "stream",
     "text": [
      "Top 7 percent observations contribute 80.23835404605484 percent of the total\n"
     ]
    }
   ],
   "source": [
    "pareto_percent(7,UScities.population[UScities.population>=100]) #and it takes only 7% to cover 80% of the population"
   ]
  },
  {
   "cell_type": "code",
   "execution_count": 352,
   "metadata": {},
   "outputs": [
    {
     "name": "stdout",
     "output_type": "stream",
     "text": [
      "Top 1 percent observations contribute 57.45622503314693 percent of the total\n"
     ]
    }
   ],
   "source": [
    "pareto_percent(1,UScities.population[UScities.population>=100]) #top 1% covers more than 50% of the population"
   ]
  },
  {
   "cell_type": "markdown",
   "metadata": {},
   "source": [
    "## Task 3. Repeat the analysis for the world cities\n",
    "\n",
    "Upload the data and keep only the cities above 10000 in population. Output the `describe` statistics.\n",
    "\n",
    "Fit the GEV distribution on the log scale. Visualize the rank plot for the top 25% of the cities (after filtering). Report the percentage of the total population covered by top 20% and top 5% of the cities"
   ]
  },
  {
   "cell_type": "code",
   "execution_count": 151,
   "metadata": {},
   "outputs": [],
   "source": [
    "## upload the dataset for major world cities\n",
    "WorldCities = pd.read_csv('https://raw.githubusercontent.com/CUSP2020PUI/Data/master/worldcities.csv')"
   ]
  },
  {
   "cell_type": "code",
   "execution_count": 152,
   "metadata": {},
   "outputs": [
    {
     "data": {
      "text/html": [
       "<div>\n",
       "<style scoped>\n",
       "    .dataframe tbody tr th:only-of-type {\n",
       "        vertical-align: middle;\n",
       "    }\n",
       "\n",
       "    .dataframe tbody tr th {\n",
       "        vertical-align: top;\n",
       "    }\n",
       "\n",
       "    .dataframe thead th {\n",
       "        text-align: right;\n",
       "    }\n",
       "</style>\n",
       "<table border=\"1\" class=\"dataframe\">\n",
       "  <thead>\n",
       "    <tr style=\"text-align: right;\">\n",
       "      <th></th>\n",
       "      <th>lat</th>\n",
       "      <th>lng</th>\n",
       "      <th>population</th>\n",
       "      <th>id</th>\n",
       "    </tr>\n",
       "  </thead>\n",
       "  <tbody>\n",
       "    <tr>\n",
       "      <td>count</td>\n",
       "      <td>15493.000000</td>\n",
       "      <td>15493.000000</td>\n",
       "      <td>1.380800e+04</td>\n",
       "      <td>1.549300e+04</td>\n",
       "    </tr>\n",
       "    <tr>\n",
       "      <td>mean</td>\n",
       "      <td>29.633315</td>\n",
       "      <td>-29.834189</td>\n",
       "      <td>1.812480e+05</td>\n",
       "      <td>1.623208e+09</td>\n",
       "    </tr>\n",
       "    <tr>\n",
       "      <td>std</td>\n",
       "      <td>22.414727</td>\n",
       "      <td>76.340457</td>\n",
       "      <td>7.947989e+05</td>\n",
       "      <td>2.826451e+08</td>\n",
       "    </tr>\n",
       "    <tr>\n",
       "      <td>min</td>\n",
       "      <td>-54.933300</td>\n",
       "      <td>-179.590000</td>\n",
       "      <td>0.000000e+00</td>\n",
       "      <td>1.004003e+09</td>\n",
       "    </tr>\n",
       "    <tr>\n",
       "      <td>25%</td>\n",
       "      <td>22.305000</td>\n",
       "      <td>-86.324200</td>\n",
       "      <td>9.167500e+03</td>\n",
       "      <td>1.404601e+09</td>\n",
       "    </tr>\n",
       "    <tr>\n",
       "      <td>50%</td>\n",
       "      <td>37.756200</td>\n",
       "      <td>-71.916700</td>\n",
       "      <td>2.349650e+04</td>\n",
       "      <td>1.826644e+09</td>\n",
       "    </tr>\n",
       "    <tr>\n",
       "      <td>75%</td>\n",
       "      <td>42.444200</td>\n",
       "      <td>25.582100</td>\n",
       "      <td>9.030625e+04</td>\n",
       "      <td>1.840015e+09</td>\n",
       "    </tr>\n",
       "    <tr>\n",
       "      <td>max</td>\n",
       "      <td>82.483300</td>\n",
       "      <td>179.383300</td>\n",
       "      <td>3.567600e+07</td>\n",
       "      <td>1.934000e+09</td>\n",
       "    </tr>\n",
       "  </tbody>\n",
       "</table>\n",
       "</div>"
      ],
      "text/plain": [
       "                lat           lng    population            id\n",
       "count  15493.000000  15493.000000  1.380800e+04  1.549300e+04\n",
       "mean      29.633315    -29.834189  1.812480e+05  1.623208e+09\n",
       "std       22.414727     76.340457  7.947989e+05  2.826451e+08\n",
       "min      -54.933300   -179.590000  0.000000e+00  1.004003e+09\n",
       "25%       22.305000    -86.324200  9.167500e+03  1.404601e+09\n",
       "50%       37.756200    -71.916700  2.349650e+04  1.826644e+09\n",
       "75%       42.444200     25.582100  9.030625e+04  1.840015e+09\n",
       "max       82.483300    179.383300  3.567600e+07  1.934000e+09"
      ]
     },
     "execution_count": 152,
     "metadata": {},
     "output_type": "execute_result"
    }
   ],
   "source": [
    "WorldCities.describe()"
   ]
  },
  {
   "cell_type": "code",
   "execution_count": 153,
   "metadata": {},
   "outputs": [],
   "source": [
    "WorldCities = WorldCities[WorldCities.population >= 10000] #keep only those above 10000 residents"
   ]
  },
  {
   "cell_type": "code",
   "execution_count": 154,
   "metadata": {},
   "outputs": [
    {
     "data": {
      "text/html": [
       "<div>\n",
       "<style scoped>\n",
       "    .dataframe tbody tr th:only-of-type {\n",
       "        vertical-align: middle;\n",
       "    }\n",
       "\n",
       "    .dataframe tbody tr th {\n",
       "        vertical-align: top;\n",
       "    }\n",
       "\n",
       "    .dataframe thead th {\n",
       "        text-align: right;\n",
       "    }\n",
       "</style>\n",
       "<table border=\"1\" class=\"dataframe\">\n",
       "  <thead>\n",
       "    <tr style=\"text-align: right;\">\n",
       "      <th></th>\n",
       "      <th>city</th>\n",
       "      <th>city_ascii</th>\n",
       "      <th>lat</th>\n",
       "      <th>lng</th>\n",
       "      <th>country</th>\n",
       "      <th>iso2</th>\n",
       "      <th>iso3</th>\n",
       "      <th>admin_name</th>\n",
       "      <th>capital</th>\n",
       "      <th>population</th>\n",
       "      <th>id</th>\n",
       "    </tr>\n",
       "  </thead>\n",
       "  <tbody>\n",
       "    <tr>\n",
       "      <td>0</td>\n",
       "      <td>Tokyo</td>\n",
       "      <td>Tokyo</td>\n",
       "      <td>35.6850</td>\n",
       "      <td>139.7514</td>\n",
       "      <td>Japan</td>\n",
       "      <td>JP</td>\n",
       "      <td>JPN</td>\n",
       "      <td>Tōkyō</td>\n",
       "      <td>primary</td>\n",
       "      <td>35676000.0</td>\n",
       "      <td>1392685764</td>\n",
       "    </tr>\n",
       "    <tr>\n",
       "      <td>1</td>\n",
       "      <td>New York</td>\n",
       "      <td>New York</td>\n",
       "      <td>40.6943</td>\n",
       "      <td>-73.9249</td>\n",
       "      <td>United States</td>\n",
       "      <td>US</td>\n",
       "      <td>USA</td>\n",
       "      <td>New York</td>\n",
       "      <td>NaN</td>\n",
       "      <td>19354922.0</td>\n",
       "      <td>1840034016</td>\n",
       "    </tr>\n",
       "    <tr>\n",
       "      <td>2</td>\n",
       "      <td>Mexico City</td>\n",
       "      <td>Mexico City</td>\n",
       "      <td>19.4424</td>\n",
       "      <td>-99.1310</td>\n",
       "      <td>Mexico</td>\n",
       "      <td>MX</td>\n",
       "      <td>MEX</td>\n",
       "      <td>Ciudad de México</td>\n",
       "      <td>primary</td>\n",
       "      <td>19028000.0</td>\n",
       "      <td>1484247881</td>\n",
       "    </tr>\n",
       "    <tr>\n",
       "      <td>3</td>\n",
       "      <td>Mumbai</td>\n",
       "      <td>Mumbai</td>\n",
       "      <td>19.0170</td>\n",
       "      <td>72.8570</td>\n",
       "      <td>India</td>\n",
       "      <td>IN</td>\n",
       "      <td>IND</td>\n",
       "      <td>Mahārāshtra</td>\n",
       "      <td>admin</td>\n",
       "      <td>18978000.0</td>\n",
       "      <td>1356226629</td>\n",
       "    </tr>\n",
       "    <tr>\n",
       "      <td>4</td>\n",
       "      <td>São Paulo</td>\n",
       "      <td>Sao Paulo</td>\n",
       "      <td>-23.5587</td>\n",
       "      <td>-46.6250</td>\n",
       "      <td>Brazil</td>\n",
       "      <td>BR</td>\n",
       "      <td>BRA</td>\n",
       "      <td>São Paulo</td>\n",
       "      <td>admin</td>\n",
       "      <td>18845000.0</td>\n",
       "      <td>1076532519</td>\n",
       "    </tr>\n",
       "  </tbody>\n",
       "</table>\n",
       "</div>"
      ],
      "text/plain": [
       "          city   city_ascii      lat       lng        country iso2 iso3  \\\n",
       "0        Tokyo        Tokyo  35.6850  139.7514          Japan   JP  JPN   \n",
       "1     New York     New York  40.6943  -73.9249  United States   US  USA   \n",
       "2  Mexico City  Mexico City  19.4424  -99.1310         Mexico   MX  MEX   \n",
       "3       Mumbai       Mumbai  19.0170   72.8570          India   IN  IND   \n",
       "4    São Paulo    Sao Paulo -23.5587  -46.6250         Brazil   BR  BRA   \n",
       "\n",
       "         admin_name  capital  population          id  \n",
       "0             Tōkyō  primary  35676000.0  1392685764  \n",
       "1          New York      NaN  19354922.0  1840034016  \n",
       "2  Ciudad de México  primary  19028000.0  1484247881  \n",
       "3       Mahārāshtra    admin  18978000.0  1356226629  \n",
       "4         São Paulo    admin  18845000.0  1076532519  "
      ]
     },
     "execution_count": 154,
     "metadata": {},
     "output_type": "execute_result"
    }
   ],
   "source": [
    "WorldCities.head()"
   ]
  },
  {
   "cell_type": "code",
   "execution_count": 156,
   "metadata": {},
   "outputs": [
    {
     "data": {
      "text/html": [
       "<div>\n",
       "<style scoped>\n",
       "    .dataframe tbody tr th:only-of-type {\n",
       "        vertical-align: middle;\n",
       "    }\n",
       "\n",
       "    .dataframe tbody tr th {\n",
       "        vertical-align: top;\n",
       "    }\n",
       "\n",
       "    .dataframe thead th {\n",
       "        text-align: right;\n",
       "    }\n",
       "</style>\n",
       "<table border=\"1\" class=\"dataframe\">\n",
       "  <thead>\n",
       "    <tr style=\"text-align: right;\">\n",
       "      <th></th>\n",
       "      <th>lat</th>\n",
       "      <th>lng</th>\n",
       "      <th>population</th>\n",
       "      <th>id</th>\n",
       "    </tr>\n",
       "  </thead>\n",
       "  <tbody>\n",
       "    <tr>\n",
       "      <td>count</td>\n",
       "      <td>10000.000000</td>\n",
       "      <td>10000.000000</td>\n",
       "      <td>1.000000e+04</td>\n",
       "      <td>1.000000e+04</td>\n",
       "    </tr>\n",
       "    <tr>\n",
       "      <td>mean</td>\n",
       "      <td>27.771663</td>\n",
       "      <td>-27.418926</td>\n",
       "      <td>2.479068e+05</td>\n",
       "      <td>1.602572e+09</td>\n",
       "    </tr>\n",
       "    <tr>\n",
       "      <td>std</td>\n",
       "      <td>22.412946</td>\n",
       "      <td>78.151883</td>\n",
       "      <td>9.252928e+05</td>\n",
       "      <td>2.901103e+08</td>\n",
       "    </tr>\n",
       "    <tr>\n",
       "      <td>min</td>\n",
       "      <td>-54.790000</td>\n",
       "      <td>-175.220600</td>\n",
       "      <td>1.000000e+04</td>\n",
       "      <td>1.004003e+09</td>\n",
       "    </tr>\n",
       "    <tr>\n",
       "      <td>25%</td>\n",
       "      <td>18.382750</td>\n",
       "      <td>-86.469725</td>\n",
       "      <td>1.972200e+04</td>\n",
       "      <td>1.360141e+09</td>\n",
       "    </tr>\n",
       "    <tr>\n",
       "      <td>50%</td>\n",
       "      <td>35.577650</td>\n",
       "      <td>-71.409250</td>\n",
       "      <td>4.590400e+04</td>\n",
       "      <td>1.792726e+09</td>\n",
       "    </tr>\n",
       "    <tr>\n",
       "      <td>75%</td>\n",
       "      <td>41.690525</td>\n",
       "      <td>32.549900</td>\n",
       "      <td>1.528985e+05</td>\n",
       "      <td>1.840015e+09</td>\n",
       "    </tr>\n",
       "    <tr>\n",
       "      <td>max</td>\n",
       "      <td>70.767000</td>\n",
       "      <td>179.383300</td>\n",
       "      <td>3.567600e+07</td>\n",
       "      <td>1.894964e+09</td>\n",
       "    </tr>\n",
       "  </tbody>\n",
       "</table>\n",
       "</div>"
      ],
      "text/plain": [
       "                lat           lng    population            id\n",
       "count  10000.000000  10000.000000  1.000000e+04  1.000000e+04\n",
       "mean      27.771663    -27.418926  2.479068e+05  1.602572e+09\n",
       "std       22.412946     78.151883  9.252928e+05  2.901103e+08\n",
       "min      -54.790000   -175.220600  1.000000e+04  1.004003e+09\n",
       "25%       18.382750    -86.469725  1.972200e+04  1.360141e+09\n",
       "50%       35.577650    -71.409250  4.590400e+04  1.792726e+09\n",
       "75%       41.690525     32.549900  1.528985e+05  1.840015e+09\n",
       "max       70.767000    179.383300  3.567600e+07  1.894964e+09"
      ]
     },
     "execution_count": 156,
     "metadata": {},
     "output_type": "execute_result"
    }
   ],
   "source": [
    "WorldCities.describe() #intrestingly there are exactly 10.000 of them"
   ]
  },
  {
   "cell_type": "code",
   "execution_count": 159,
   "metadata": {
    "nbgrader": {
     "grade": true,
     "grade_id": "cell-f3b4a199a6865047",
     "locked": false,
     "points": 1,
     "schema_version": 3,
     "solution": true,
     "task": false
    }
   },
   "outputs": [
    {
     "name": "stdout",
     "output_type": "stream",
     "text": [
      "Log mean = 4.80(62624.52), mean = 247906.80\n",
      "Standard deviation = 0.62\n",
      "1 percentile = 10265.00\n",
      "5 percentile = 11388.90\n",
      "25 percentile = 19722.00\n",
      "50 percentile = 45904.00\n",
      "75 percentile = 152898.50\n",
      "95 percentile = 1000000.00\n",
      "99 percentile = 3297030.00\n"
     ]
    },
    {
     "data": {
      "image/png": "[encoded data removed]",
      "text/plain": [
       "<Figure size 432x288 with 1 Axes>"
      ]
     },
     "metadata": {
      "needs_background": "light"
     },
     "output_type": "display_data"
    },
    {
     "data": {
      "text/plain": [
       "(-0.18079173100694484, 4.473642899488972, 0.4216213303419021)"
      ]
     },
     "execution_count": 159,
     "metadata": {},
     "output_type": "execute_result"
    }
   ],
   "source": [
    "distribution_analysis(WorldCities.population, log_scale=True, fit_distribution='gev');"
   ]
  },
  {
   "cell_type": "code",
   "execution_count": 164,
   "metadata": {
    "nbgrader": {
     "grade": true,
     "grade_id": "cell-7ee283cd030fb02f",
     "locked": false,
     "points": 1,
     "schema_version": 3,
     "solution": true,
     "task": false
    }
   },
   "outputs": [
    {
     "data": {
      "image/png": "[encoded data removed]",
      "text/plain": [
       "<Figure size 432x288 with 1 Axes>"
      ]
     },
     "metadata": {
      "needs_background": "light"
     },
     "output_type": "display_data"
    }
   ],
   "source": [
    "rank_plot(WorldCities.population, log_scale=True, top_percentile=25)"
   ]
  },
  {
   "cell_type": "code",
   "execution_count": 167,
   "metadata": {
    "nbgrader": {
     "grade": true,
     "grade_id": "cell-adadf7070826f713",
     "locked": false,
     "points": 1,
     "schema_version": 3,
     "solution": true,
     "task": false
    }
   },
   "outputs": [
    {
     "name": "stdout",
     "output_type": "stream",
     "text": [
      "Top 20 percent observations contribute 83.4127145884519 percent of the total\n"
     ]
    }
   ],
   "source": [
    "pareto_percent(20,WorldCities.population)"
   ]
  },
  {
   "cell_type": "code",
   "execution_count": 171,
   "metadata": {
    "nbgrader": {
     "grade": true,
     "grade_id": "cell-0ab9da1621c84593",
     "locked": false,
     "points": 1,
     "schema_version": 3,
     "solution": true,
     "task": false
    }
   },
   "outputs": [
    {
     "name": "stdout",
     "output_type": "stream",
     "text": [
      "Top 5 percent observations contribute 56.51278382616403 percent of the total\n"
     ]
    }
   ],
   "source": [
    "pareto_percent(5,WorldCities.population)"
   ]
  },
  {
   "cell_type": "markdown",
   "metadata": {},
   "source": [
    "## Task 4. Taxi trip duration analysis\n",
    "\n",
    "Upload the 'yellowTaxi_cleaned.csv' file saved in the previous lab. Analyze the trip distance the the trip duration distributions. Try fitting normal distribution on the original and the log-scale.\n",
    "\n",
    "Take only the trips which start and end on Manhattan (feel free to use the taxi zones shapefile https://data.cityofnewyork.us/api/geospatial/d3c5-ddgc?method=export&format=Shapefile for borough information, create a TZ to borhough dictionary, mapt it for filtering). Repeat the distribution analysis for the trip distances."
   ]
  },
  {
   "cell_type": "code",
   "execution_count": 174,
   "metadata": {},
   "outputs": [],
   "source": [
    "taxi=pd.read_csv('yellowTaxi_cleaned.csv')"
   ]
  },
  {
   "cell_type": "code",
   "execution_count": 175,
   "metadata": {
    "nbgrader": {
     "grade": true,
     "grade_id": "cell-1e472f91d5a02d38",
     "locked": false,
     "points": 1,
     "schema_version": 3,
     "solution": true,
     "task": false
    }
   },
   "outputs": [
    {
     "name": "stdout",
     "output_type": "stream",
     "text": [
      "Log mean = 1.01(10.18), mean = 13.01\n",
      "Standard deviation = 0.31\n",
      "1 percentile = 1.93\n",
      "5 percentile = 3.12\n",
      "25 percentile = 6.28\n",
      "50 percentile = 10.28\n",
      "75 percentile = 16.63\n",
      "95 percentile = 32.32\n",
      "99 percentile = 49.62\n"
     ]
    },
    {
     "data": {
      "image/png": "[encoded data removed]",
      "text/plain": [
       "<Figure size 432x288 with 1 Axes>"
      ]
     },
     "metadata": {
      "needs_background": "light"
     },
     "output_type": "display_data"
    },
    {
     "data": {
      "text/plain": [
       "(1.007885182079432, 0.30782795766918913)"
      ]
     },
     "execution_count": 175,
     "metadata": {},
     "output_type": "execute_result"
    }
   ],
   "source": [
    "distribution_analysis(taxi.trip_duration, log_scale = True, fit_distribution='normal')"
   ]
  },
  {
   "cell_type": "code",
   "execution_count": 176,
   "metadata": {
    "nbgrader": {
     "grade": true,
     "grade_id": "cell-efd87b1265a15884",
     "locked": false,
     "points": 1,
     "schema_version": 3,
     "solution": true,
     "task": false
    }
   },
   "outputs": [
    {
     "name": "stdout",
     "output_type": "stream",
     "text": [
      "Log mean = 0.25(1.77), mean = 2.84\n",
      "Standard deviation = 0.39\n",
      "1 percentile = 0.36\n",
      "5 percentile = 0.50\n",
      "25 percentile = 0.95\n",
      "50 percentile = 1.57\n",
      "75 percentile = 2.85\n",
      "95 percentile = 10.61\n",
      "99 percentile = 18.90\n"
     ]
    },
    {
     "data": {
      "image/png": "[encoded data removed]",
      "text/plain": [
       "<Figure size 432x288 with 1 Axes>"
      ]
     },
     "metadata": {
      "needs_background": "light"
     },
     "output_type": "display_data"
    },
    {
     "data": {
      "text/plain": [
       "(0.24912013289336216, 0.38701940848034877)"
      ]
     },
     "execution_count": 176,
     "metadata": {},
     "output_type": "execute_result"
    }
   ],
   "source": [
    "distribution_analysis(taxi.trip_distance, log_scale = True, fit_distribution='normal')"
   ]
  },
  {
   "cell_type": "code",
   "execution_count": 181,
   "metadata": {},
   "outputs": [],
   "source": [
    "#now filter the trips within Manhattan"
   ]
  },
  {
   "cell_type": "code",
   "execution_count": 178,
   "metadata": {},
   "outputs": [],
   "source": [
    "import geopandas as gpd\n",
    "tz = gpd.read_file('https://data.cityofnewyork.us/api/geospatial/d3c5-ddgc?method=export&format=Shapefile')"
   ]
  },
  {
   "cell_type": "code",
   "execution_count": 180,
   "metadata": {},
   "outputs": [
    {
     "data": {
      "text/html": [
       "<div>\n",
       "<style scoped>\n",
       "    .dataframe tbody tr th:only-of-type {\n",
       "        vertical-align: middle;\n",
       "    }\n",
       "\n",
       "    .dataframe tbody tr th {\n",
       "        vertical-align: top;\n",
       "    }\n",
       "\n",
       "    .dataframe thead th {\n",
       "        text-align: right;\n",
       "    }\n",
       "</style>\n",
       "<table border=\"1\" class=\"dataframe\">\n",
       "  <thead>\n",
       "    <tr style=\"text-align: right;\">\n",
       "      <th></th>\n",
       "      <th>borough</th>\n",
       "      <th>location_i</th>\n",
       "      <th>objectid</th>\n",
       "      <th>shape_area</th>\n",
       "      <th>shape_leng</th>\n",
       "      <th>zone</th>\n",
       "      <th>geometry</th>\n",
       "    </tr>\n",
       "  </thead>\n",
       "  <tbody>\n",
       "    <tr>\n",
       "      <td>0</td>\n",
       "      <td>EWR</td>\n",
       "      <td>1.0</td>\n",
       "      <td>1.0</td>\n",
       "      <td>0.000782</td>\n",
       "      <td>0.116357</td>\n",
       "      <td>Newark Airport</td>\n",
       "      <td>POLYGON ((-74.18445 40.69500, -74.18449 40.695...</td>\n",
       "    </tr>\n",
       "    <tr>\n",
       "      <td>1</td>\n",
       "      <td>Queens</td>\n",
       "      <td>2.0</td>\n",
       "      <td>2.0</td>\n",
       "      <td>0.004866</td>\n",
       "      <td>0.433470</td>\n",
       "      <td>Jamaica Bay</td>\n",
       "      <td>MULTIPOLYGON (((-73.82338 40.63899, -73.82277 ...</td>\n",
       "    </tr>\n",
       "    <tr>\n",
       "      <td>2</td>\n",
       "      <td>Bronx</td>\n",
       "      <td>3.0</td>\n",
       "      <td>3.0</td>\n",
       "      <td>0.000314</td>\n",
       "      <td>0.084341</td>\n",
       "      <td>Allerton/Pelham Gardens</td>\n",
       "      <td>POLYGON ((-73.84793 40.87134, -73.84725 40.870...</td>\n",
       "    </tr>\n",
       "    <tr>\n",
       "      <td>3</td>\n",
       "      <td>Manhattan</td>\n",
       "      <td>4.0</td>\n",
       "      <td>4.0</td>\n",
       "      <td>0.000112</td>\n",
       "      <td>0.043567</td>\n",
       "      <td>Alphabet City</td>\n",
       "      <td>POLYGON ((-73.97177 40.72582, -73.97179 40.725...</td>\n",
       "    </tr>\n",
       "    <tr>\n",
       "      <td>4</td>\n",
       "      <td>Staten Island</td>\n",
       "      <td>5.0</td>\n",
       "      <td>5.0</td>\n",
       "      <td>0.000498</td>\n",
       "      <td>0.092146</td>\n",
       "      <td>Arden Heights</td>\n",
       "      <td>POLYGON ((-74.17422 40.56257, -74.17349 40.562...</td>\n",
       "    </tr>\n",
       "  </tbody>\n",
       "</table>\n",
       "</div>"
      ],
      "text/plain": [
       "         borough  location_i  objectid  shape_area  shape_leng  \\\n",
       "0            EWR         1.0       1.0    0.000782    0.116357   \n",
       "1         Queens         2.0       2.0    0.004866    0.433470   \n",
       "2          Bronx         3.0       3.0    0.000314    0.084341   \n",
       "3      Manhattan         4.0       4.0    0.000112    0.043567   \n",
       "4  Staten Island         5.0       5.0    0.000498    0.092146   \n",
       "\n",
       "                      zone                                           geometry  \n",
       "0           Newark Airport  POLYGON ((-74.18445 40.69500, -74.18449 40.695...  \n",
       "1              Jamaica Bay  MULTIPOLYGON (((-73.82338 40.63899, -73.82277 ...  \n",
       "2  Allerton/Pelham Gardens  POLYGON ((-73.84793 40.87134, -73.84725 40.870...  \n",
       "3            Alphabet City  POLYGON ((-73.97177 40.72582, -73.97179 40.725...  \n",
       "4            Arden Heights  POLYGON ((-74.17422 40.56257, -74.17349 40.562...  "
      ]
     },
     "execution_count": 180,
     "metadata": {},
     "output_type": "execute_result"
    }
   ],
   "source": [
    "tz.head()"
   ]
  },
  {
   "cell_type": "code",
   "execution_count": 182,
   "metadata": {},
   "outputs": [],
   "source": [
    "borough={r.location_i:r.borough for (_,r) in tz.iterrows()} #create a tz to borough dictionary"
   ]
  },
  {
   "cell_type": "code",
   "execution_count": 183,
   "metadata": {},
   "outputs": [],
   "source": [
    "taxi_MH = taxi[(taxi.DOLocationID.map(borough)=='Manhattan') & (taxi.PULocationID.map(borough)=='Manhattan')]"
   ]
  },
  {
   "cell_type": "code",
   "execution_count": 185,
   "metadata": {
    "nbgrader": {
     "grade": true,
     "grade_id": "cell-2b107fc2eb93bd36",
     "locked": false,
     "points": 1,
     "schema_version": 3,
     "solution": true,
     "task": false
    }
   },
   "outputs": [
    {
     "name": "stdout",
     "output_type": "stream",
     "text": [
      "Log mean = 0.15(1.43), mean = 1.80\n",
      "Standard deviation = 0.29\n",
      "1 percentile = 0.34\n",
      "5 percentile = 0.50\n",
      "25 percentile = 0.90\n",
      "50 percentile = 1.40\n",
      "75 percentile = 2.21\n",
      "95 percentile = 4.60\n",
      "99 percentile = 7.16\n"
     ]
    },
    {
     "data": {
      "image/png": "[encoded data removed]",
      "text/plain": [
       "<Figure size 432x288 with 1 Axes>"
      ]
     },
     "metadata": {
      "needs_background": "light"
     },
     "output_type": "display_data"
    },
    {
     "data": {
      "text/plain": [
       "(0.15409881944342033, 0.2909308754850655)"
      ]
     },
     "execution_count": 185,
     "metadata": {},
     "output_type": "execute_result"
    }
   ],
   "source": [
    "distribution_analysis(taxi_MH.trip_distance, log_scale = True, fit_distribution = 'normal', bins = 40)"
   ]
  },
  {
   "cell_type": "code",
   "execution_count": null,
   "metadata": {},
   "outputs": [],
   "source": []
  }
 ],
 "metadata": {
  "celltoolbar": "Create Assignment",
  "kernelspec": {
   "display_name": "Python 3",
   "language": "python",
   "name": "python3"
  },
  "language_info": {
   "codemirror_mode": {
    "name": "ipython",
    "version": 3
   },
   "file_extension": ".py",
   "mimetype": "text/x-python",
   "name": "python",
   "nbconvert_exporter": "python",
   "pygments_lexer": "ipython3",
   "version": "3.8.5"
  }
 },
 "nbformat": 4,
 "nbformat_minor": 2
}
